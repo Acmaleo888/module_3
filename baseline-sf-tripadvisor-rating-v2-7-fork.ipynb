{
 "cells": [
  {
   "cell_type": "markdown",
   "metadata": {},
   "source": [
    "![](https://www.pata.org/wp-content/uploads/2014/09/TripAdvisor_Logo-300x119.png)\n",
    "# Predict TripAdvisor Rating\n",
    "## В этом соревновании нам предстоит предсказать рейтинг ресторана в TripAdvisor\n",
    "**По ходу задачи:**\n",
    "* Прокачаем работу с pandas\n",
    "* Научимся работать с Kaggle Notebooks\n",
    "* Поймем как делать предобработку различных данных\n",
    "* Научимся работать с пропущенными данными (Nan)\n",
    "* Познакомимся с различными видами кодирования признаков\n",
    "* Немного попробуем [Feature Engineering](https://ru.wikipedia.org/wiki/Конструирование_признаков) (генерировать новые признаки)\n",
    "* И совсем немного затронем ML\n",
    "* И многое другое...   \n",
    "\n",
    "\n",
    "\n",
    "### И самое важное, все это вы сможете сделать самостоятельно!\n",
    "\n",
    "*Этот Ноутбук являетсся Примером/Шаблоном к этому соревнованию (Baseline) и не служит готовым решением!*   \n",
    "Вы можете использовать его как основу для построения своего решения.\n",
    "\n",
    "> что такое baseline решение, зачем оно нужно и почему предоставлять baseline к соревнованию стало важным стандартом на kaggle и других площадках.   \n",
    "**baseline** создается больше как шаблон, где можно посмотреть как происходит обращение с входящими данными и что нужно получить на выходе. При этом МЛ начинка может быть достаточно простой, просто для примера. Это помогает быстрее приступить к самому МЛ, а не тратить ценное время на чисто инженерные задачи. \n",
    "Также baseline являеться хорошей опорной точкой по метрике. Если твое решение хуже baseline - ты явно делаешь что-то не то и стоит попробовать другой путь) \n",
    "\n",
    "В контексте нашего соревнования baseline идет с небольшими примерами того, что можно делать с данными, и с инструкцией, что делать дальше, чтобы улучшить результат.  Вообще готовым решением это сложно назвать, так как используются всего 2 самых простых признака (а остальные исключаются)."
   ]
  },
  {
   "cell_type": "markdown",
   "metadata": {},
   "source": [
    "# import"
   ]
  },
  {
   "cell_type": "code",
   "execution_count": 1,
   "metadata": {
    "_cell_guid": "b1076dfc-b9ad-4769-8c92-a6c4dae69d19",
    "_uuid": "8f2839f25d086af736a60e9eeb907d3b93b6e0e5",
    "execution": {
     "iopub.execute_input": "2021-08-04T15:26:38.863708Z",
     "iopub.status.busy": "2021-08-04T15:26:38.863278Z",
     "iopub.status.idle": "2021-08-04T15:26:40.210224Z",
     "shell.execute_reply": "2021-08-04T15:26:40.208996Z",
     "shell.execute_reply.started": "2021-08-04T15:26:38.863651Z"
    }
   },
   "outputs": [
    {
     "name": "stdout",
     "output_type": "stream",
     "text": [
      "/kaggle/input/sf-dst-restaurant-rating/sample_submission.csv\n",
      "/kaggle/input/sf-dst-restaurant-rating/main_task.csv\n",
      "/kaggle/input/sf-dst-restaurant-rating/kaggle_task.csv\n"
     ]
    }
   ],
   "source": [
    "# This Python 3 environment comes with many helpful analytics libraries installed\n",
    "# It is defined by the kaggle/python docker image: https://github.com/kaggle/docker-python\n",
    "# For example, here's several helpful packages to load in \n",
    "\n",
    "import numpy as np # linear algebra\n",
    "import pandas as pd # data processing, CSV file I/O (e.g. pd.read_csv)\n",
    "\n",
    "import re\n",
    "\n",
    "import matplotlib.pyplot as plt\n",
    "import seaborn as sns \n",
    "%matplotlib inline\n",
    "\n",
    "# Загружаем специальный удобный инструмент для разделения датасета:\n",
    "from sklearn.model_selection import train_test_split\n",
    "\n",
    "# Input data files are available in the \"../input/\" directory.\n",
    "# For example, running this (by clicking run or pressing Shift+Enter) will list all files under the input directory\n",
    "\n",
    "import os\n",
    "for dirname, _, filenames in os.walk('/kaggle/input'):\n",
    "    for filename in filenames:\n",
    "        print(os.path.join(dirname, filename))\n",
    "\n",
    "# Any results you write to the current directory are saved as output."
   ]
  },
  {
   "cell_type": "code",
   "execution_count": 2,
   "metadata": {
    "execution": {
     "iopub.execute_input": "2021-08-04T15:26:40.212882Z",
     "iopub.status.busy": "2021-08-04T15:26:40.212483Z",
     "iopub.status.idle": "2021-08-04T15:26:40.217483Z",
     "shell.execute_reply": "2021-08-04T15:26:40.216392Z",
     "shell.execute_reply.started": "2021-08-04T15:26:40.212810Z"
    }
   },
   "outputs": [],
   "source": [
    "# всегда фиксируйте RANDOM_SEED, чтобы ваши эксперименты были воспроизводимы!\n",
    "RANDOM_SEED = 42"
   ]
  },
  {
   "cell_type": "code",
   "execution_count": 3,
   "metadata": {
    "execution": {
     "iopub.execute_input": "2021-08-04T15:26:40.219594Z",
     "iopub.status.busy": "2021-08-04T15:26:40.219206Z",
     "iopub.status.idle": "2021-08-04T15:26:42.692427Z",
     "shell.execute_reply": "2021-08-04T15:26:42.691314Z",
     "shell.execute_reply.started": "2021-08-04T15:26:40.219507Z"
    }
   },
   "outputs": [],
   "source": [
    "# зафиксируем версию пакетов, чтобы эксперименты были воспроизводимы:\n",
    "!pip freeze > requirements.txt"
   ]
  },
  {
   "cell_type": "markdown",
   "metadata": {},
   "source": [
    "# DATA"
   ]
  },
  {
   "cell_type": "code",
   "execution_count": 4,
   "metadata": {
    "_cell_guid": "79c7e3d0-c299-4dcb-8224-4455121ee9b0",
    "_uuid": "d629ff2d2480ee46fbb7e2d37f6b5fab8052498a",
    "execution": {
     "iopub.execute_input": "2021-08-04T15:26:42.694041Z",
     "iopub.status.busy": "2021-08-04T15:26:42.693771Z",
     "iopub.status.idle": "2021-08-04T15:26:42.977025Z",
     "shell.execute_reply": "2021-08-04T15:26:42.976084Z",
     "shell.execute_reply.started": "2021-08-04T15:26:42.693996Z"
    }
   },
   "outputs": [],
   "source": [
    "DATA_DIR = '/kaggle/input/sf-dst-restaurant-rating/'\n",
    "df_train = pd.read_csv(DATA_DIR+'/main_task.csv')\n",
    "df_test = pd.read_csv(DATA_DIR+'kaggle_task.csv')\n",
    "sample_submission = pd.read_csv(DATA_DIR+'/sample_submission.csv')"
   ]
  },
  {
   "cell_type": "code",
   "execution_count": 5,
   "metadata": {
    "execution": {
     "iopub.execute_input": "2021-08-04T15:26:42.981482Z",
     "iopub.status.busy": "2021-08-04T15:26:42.981168Z",
     "iopub.status.idle": "2021-08-04T15:26:43.025222Z",
     "shell.execute_reply": "2021-08-04T15:26:43.024107Z",
     "shell.execute_reply.started": "2021-08-04T15:26:42.981431Z"
    }
   },
   "outputs": [
    {
     "name": "stdout",
     "output_type": "stream",
     "text": [
      "<class 'pandas.core.frame.DataFrame'>\n",
      "RangeIndex: 40000 entries, 0 to 39999\n",
      "Data columns (total 10 columns):\n",
      "Restaurant_id        40000 non-null object\n",
      "City                 40000 non-null object\n",
      "Cuisine Style        30717 non-null object\n",
      "Ranking              40000 non-null float64\n",
      "Rating               40000 non-null float64\n",
      "Price Range          26114 non-null object\n",
      "Number of Reviews    37457 non-null float64\n",
      "Reviews              40000 non-null object\n",
      "URL_TA               40000 non-null object\n",
      "ID_TA                40000 non-null object\n",
      "dtypes: float64(3), object(7)\n",
      "memory usage: 3.1+ MB\n"
     ]
    }
   ],
   "source": [
    "df_train.info()"
   ]
  },
  {
   "cell_type": "code",
   "execution_count": 6,
   "metadata": {
    "execution": {
     "iopub.execute_input": "2021-08-04T15:26:43.028487Z",
     "iopub.status.busy": "2021-08-04T15:26:43.028198Z",
     "iopub.status.idle": "2021-08-04T15:26:43.057658Z",
     "shell.execute_reply": "2021-08-04T15:26:43.056760Z",
     "shell.execute_reply.started": "2021-08-04T15:26:43.028438Z"
    }
   },
   "outputs": [
    {
     "data": {
      "text/html": [
       "<div>\n",
       "<style scoped>\n",
       "    .dataframe tbody tr th:only-of-type {\n",
       "        vertical-align: middle;\n",
       "    }\n",
       "\n",
       "    .dataframe tbody tr th {\n",
       "        vertical-align: top;\n",
       "    }\n",
       "\n",
       "    .dataframe thead th {\n",
       "        text-align: right;\n",
       "    }\n",
       "</style>\n",
       "<table border=\"1\" class=\"dataframe\">\n",
       "  <thead>\n",
       "    <tr style=\"text-align: right;\">\n",
       "      <th></th>\n",
       "      <th>Restaurant_id</th>\n",
       "      <th>City</th>\n",
       "      <th>Cuisine Style</th>\n",
       "      <th>Ranking</th>\n",
       "      <th>Rating</th>\n",
       "      <th>Price Range</th>\n",
       "      <th>Number of Reviews</th>\n",
       "      <th>Reviews</th>\n",
       "      <th>URL_TA</th>\n",
       "      <th>ID_TA</th>\n",
       "    </tr>\n",
       "  </thead>\n",
       "  <tbody>\n",
       "    <tr>\n",
       "      <th>0</th>\n",
       "      <td>id_5569</td>\n",
       "      <td>Paris</td>\n",
       "      <td>['European', 'French', 'International']</td>\n",
       "      <td>5570.0</td>\n",
       "      <td>3.5</td>\n",
       "      <td>$$ - $$$</td>\n",
       "      <td>194.0</td>\n",
       "      <td>[['Good food at your doorstep', 'A good hotel ...</td>\n",
       "      <td>/Restaurant_Review-g187147-d1912643-Reviews-R_...</td>\n",
       "      <td>d1912643</td>\n",
       "    </tr>\n",
       "    <tr>\n",
       "      <th>1</th>\n",
       "      <td>id_1535</td>\n",
       "      <td>Stockholm</td>\n",
       "      <td>NaN</td>\n",
       "      <td>1537.0</td>\n",
       "      <td>4.0</td>\n",
       "      <td>NaN</td>\n",
       "      <td>10.0</td>\n",
       "      <td>[['Unique cuisine', 'Delicious Nepalese food']...</td>\n",
       "      <td>/Restaurant_Review-g189852-d7992032-Reviews-Bu...</td>\n",
       "      <td>d7992032</td>\n",
       "    </tr>\n",
       "    <tr>\n",
       "      <th>2</th>\n",
       "      <td>id_352</td>\n",
       "      <td>London</td>\n",
       "      <td>['Japanese', 'Sushi', 'Asian', 'Grill', 'Veget...</td>\n",
       "      <td>353.0</td>\n",
       "      <td>4.5</td>\n",
       "      <td>$$$$</td>\n",
       "      <td>688.0</td>\n",
       "      <td>[['Catch up with friends', 'Not exceptional'],...</td>\n",
       "      <td>/Restaurant_Review-g186338-d8632781-Reviews-RO...</td>\n",
       "      <td>d8632781</td>\n",
       "    </tr>\n",
       "    <tr>\n",
       "      <th>3</th>\n",
       "      <td>id_3456</td>\n",
       "      <td>Berlin</td>\n",
       "      <td>NaN</td>\n",
       "      <td>3458.0</td>\n",
       "      <td>5.0</td>\n",
       "      <td>NaN</td>\n",
       "      <td>3.0</td>\n",
       "      <td>[[], []]</td>\n",
       "      <td>/Restaurant_Review-g187323-d1358776-Reviews-Es...</td>\n",
       "      <td>d1358776</td>\n",
       "    </tr>\n",
       "    <tr>\n",
       "      <th>4</th>\n",
       "      <td>id_615</td>\n",
       "      <td>Munich</td>\n",
       "      <td>['German', 'Central European', 'Vegetarian Fri...</td>\n",
       "      <td>621.0</td>\n",
       "      <td>4.0</td>\n",
       "      <td>$$ - $$$</td>\n",
       "      <td>84.0</td>\n",
       "      <td>[['Best place to try a Bavarian food', 'Nice b...</td>\n",
       "      <td>/Restaurant_Review-g187309-d6864963-Reviews-Au...</td>\n",
       "      <td>d6864963</td>\n",
       "    </tr>\n",
       "  </tbody>\n",
       "</table>\n",
       "</div>"
      ],
      "text/plain": [
       "  Restaurant_id       City                                      Cuisine Style  \\\n",
       "0       id_5569      Paris            ['European', 'French', 'International']   \n",
       "1       id_1535  Stockholm                                                NaN   \n",
       "2        id_352     London  ['Japanese', 'Sushi', 'Asian', 'Grill', 'Veget...   \n",
       "3       id_3456     Berlin                                                NaN   \n",
       "4        id_615     Munich  ['German', 'Central European', 'Vegetarian Fri...   \n",
       "\n",
       "   Ranking  Rating Price Range  Number of Reviews  \\\n",
       "0   5570.0     3.5    $$ - $$$              194.0   \n",
       "1   1537.0     4.0         NaN               10.0   \n",
       "2    353.0     4.5        $$$$              688.0   \n",
       "3   3458.0     5.0         NaN                3.0   \n",
       "4    621.0     4.0    $$ - $$$               84.0   \n",
       "\n",
       "                                             Reviews  \\\n",
       "0  [['Good food at your doorstep', 'A good hotel ...   \n",
       "1  [['Unique cuisine', 'Delicious Nepalese food']...   \n",
       "2  [['Catch up with friends', 'Not exceptional'],...   \n",
       "3                                           [[], []]   \n",
       "4  [['Best place to try a Bavarian food', 'Nice b...   \n",
       "\n",
       "                                              URL_TA     ID_TA  \n",
       "0  /Restaurant_Review-g187147-d1912643-Reviews-R_...  d1912643  \n",
       "1  /Restaurant_Review-g189852-d7992032-Reviews-Bu...  d7992032  \n",
       "2  /Restaurant_Review-g186338-d8632781-Reviews-RO...  d8632781  \n",
       "3  /Restaurant_Review-g187323-d1358776-Reviews-Es...  d1358776  \n",
       "4  /Restaurant_Review-g187309-d6864963-Reviews-Au...  d6864963  "
      ]
     },
     "execution_count": 6,
     "metadata": {},
     "output_type": "execute_result"
    }
   ],
   "source": [
    "df_train.head(5)"
   ]
  },
  {
   "cell_type": "code",
   "execution_count": 7,
   "metadata": {
    "execution": {
     "iopub.execute_input": "2021-08-04T15:26:43.059431Z",
     "iopub.status.busy": "2021-08-04T15:26:43.058961Z",
     "iopub.status.idle": "2021-08-04T15:26:43.084445Z",
     "shell.execute_reply": "2021-08-04T15:26:43.083596Z",
     "shell.execute_reply.started": "2021-08-04T15:26:43.059369Z"
    }
   },
   "outputs": [
    {
     "name": "stdout",
     "output_type": "stream",
     "text": [
      "<class 'pandas.core.frame.DataFrame'>\n",
      "RangeIndex: 10000 entries, 0 to 9999\n",
      "Data columns (total 9 columns):\n",
      "Restaurant_id        10000 non-null object\n",
      "City                 10000 non-null object\n",
      "Cuisine Style        7693 non-null object\n",
      "Ranking              10000 non-null float64\n",
      "Price Range          6525 non-null object\n",
      "Number of Reviews    9343 non-null float64\n",
      "Reviews              9998 non-null object\n",
      "URL_TA               10000 non-null object\n",
      "ID_TA                10000 non-null object\n",
      "dtypes: float64(2), object(7)\n",
      "memory usage: 703.2+ KB\n"
     ]
    }
   ],
   "source": [
    "df_test.info()"
   ]
  },
  {
   "cell_type": "code",
   "execution_count": 8,
   "metadata": {
    "execution": {
     "iopub.execute_input": "2021-08-04T15:26:43.086311Z",
     "iopub.status.busy": "2021-08-04T15:26:43.085850Z",
     "iopub.status.idle": "2021-08-04T15:26:43.109185Z",
     "shell.execute_reply": "2021-08-04T15:26:43.108074Z",
     "shell.execute_reply.started": "2021-08-04T15:26:43.086245Z"
    }
   },
   "outputs": [
    {
     "data": {
      "text/html": [
       "<div>\n",
       "<style scoped>\n",
       "    .dataframe tbody tr th:only-of-type {\n",
       "        vertical-align: middle;\n",
       "    }\n",
       "\n",
       "    .dataframe tbody tr th {\n",
       "        vertical-align: top;\n",
       "    }\n",
       "\n",
       "    .dataframe thead th {\n",
       "        text-align: right;\n",
       "    }\n",
       "</style>\n",
       "<table border=\"1\" class=\"dataframe\">\n",
       "  <thead>\n",
       "    <tr style=\"text-align: right;\">\n",
       "      <th></th>\n",
       "      <th>Restaurant_id</th>\n",
       "      <th>City</th>\n",
       "      <th>Cuisine Style</th>\n",
       "      <th>Ranking</th>\n",
       "      <th>Price Range</th>\n",
       "      <th>Number of Reviews</th>\n",
       "      <th>Reviews</th>\n",
       "      <th>URL_TA</th>\n",
       "      <th>ID_TA</th>\n",
       "    </tr>\n",
       "  </thead>\n",
       "  <tbody>\n",
       "    <tr>\n",
       "      <th>0</th>\n",
       "      <td>id_0</td>\n",
       "      <td>Paris</td>\n",
       "      <td>['Bar', 'Pub']</td>\n",
       "      <td>12963.0</td>\n",
       "      <td>$$ - $$$</td>\n",
       "      <td>4.0</td>\n",
       "      <td>[[], []]</td>\n",
       "      <td>/Restaurant_Review-g187147-d10746918-Reviews-L...</td>\n",
       "      <td>d10746918</td>\n",
       "    </tr>\n",
       "    <tr>\n",
       "      <th>1</th>\n",
       "      <td>id_1</td>\n",
       "      <td>Helsinki</td>\n",
       "      <td>['European', 'Scandinavian', 'Gluten Free Opti...</td>\n",
       "      <td>106.0</td>\n",
       "      <td>$$ - $$$</td>\n",
       "      <td>97.0</td>\n",
       "      <td>[['Very good reviews!', 'Fine dining in Hakani...</td>\n",
       "      <td>/Restaurant_Review-g189934-d6674944-Reviews-Ra...</td>\n",
       "      <td>d6674944</td>\n",
       "    </tr>\n",
       "    <tr>\n",
       "      <th>2</th>\n",
       "      <td>id_2</td>\n",
       "      <td>Edinburgh</td>\n",
       "      <td>['Vegetarian Friendly']</td>\n",
       "      <td>810.0</td>\n",
       "      <td>$$ - $$$</td>\n",
       "      <td>28.0</td>\n",
       "      <td>[['Better than the Links', 'Ivy Black'], ['12/...</td>\n",
       "      <td>/Restaurant_Review-g186525-d13129638-Reviews-B...</td>\n",
       "      <td>d13129638</td>\n",
       "    </tr>\n",
       "    <tr>\n",
       "      <th>3</th>\n",
       "      <td>id_3</td>\n",
       "      <td>London</td>\n",
       "      <td>['Italian', 'Mediterranean', 'European', 'Vege...</td>\n",
       "      <td>1669.0</td>\n",
       "      <td>$$$$</td>\n",
       "      <td>202.0</td>\n",
       "      <td>[['Most exquisite', 'Delicious and authentic']...</td>\n",
       "      <td>/Restaurant_Review-g186338-d680417-Reviews-Qui...</td>\n",
       "      <td>d680417</td>\n",
       "    </tr>\n",
       "    <tr>\n",
       "      <th>4</th>\n",
       "      <td>id_4</td>\n",
       "      <td>Bratislava</td>\n",
       "      <td>['Italian', 'Mediterranean', 'European', 'Seaf...</td>\n",
       "      <td>37.0</td>\n",
       "      <td>$$$$</td>\n",
       "      <td>162.0</td>\n",
       "      <td>[['Always the best in bratislava', 'Very good ...</td>\n",
       "      <td>/Restaurant_Review-g274924-d1112354-Reviews-Ma...</td>\n",
       "      <td>d1112354</td>\n",
       "    </tr>\n",
       "  </tbody>\n",
       "</table>\n",
       "</div>"
      ],
      "text/plain": [
       "  Restaurant_id        City  \\\n",
       "0          id_0       Paris   \n",
       "1          id_1    Helsinki   \n",
       "2          id_2   Edinburgh   \n",
       "3          id_3      London   \n",
       "4          id_4  Bratislava   \n",
       "\n",
       "                                       Cuisine Style  Ranking Price Range  \\\n",
       "0                                     ['Bar', 'Pub']  12963.0    $$ - $$$   \n",
       "1  ['European', 'Scandinavian', 'Gluten Free Opti...    106.0    $$ - $$$   \n",
       "2                            ['Vegetarian Friendly']    810.0    $$ - $$$   \n",
       "3  ['Italian', 'Mediterranean', 'European', 'Vege...   1669.0        $$$$   \n",
       "4  ['Italian', 'Mediterranean', 'European', 'Seaf...     37.0        $$$$   \n",
       "\n",
       "   Number of Reviews                                            Reviews  \\\n",
       "0                4.0                                           [[], []]   \n",
       "1               97.0  [['Very good reviews!', 'Fine dining in Hakani...   \n",
       "2               28.0  [['Better than the Links', 'Ivy Black'], ['12/...   \n",
       "3              202.0  [['Most exquisite', 'Delicious and authentic']...   \n",
       "4              162.0  [['Always the best in bratislava', 'Very good ...   \n",
       "\n",
       "                                              URL_TA      ID_TA  \n",
       "0  /Restaurant_Review-g187147-d10746918-Reviews-L...  d10746918  \n",
       "1  /Restaurant_Review-g189934-d6674944-Reviews-Ra...   d6674944  \n",
       "2  /Restaurant_Review-g186525-d13129638-Reviews-B...  d13129638  \n",
       "3  /Restaurant_Review-g186338-d680417-Reviews-Qui...    d680417  \n",
       "4  /Restaurant_Review-g274924-d1112354-Reviews-Ma...   d1112354  "
      ]
     },
     "execution_count": 8,
     "metadata": {},
     "output_type": "execute_result"
    }
   ],
   "source": [
    "df_test.head(5)"
   ]
  },
  {
   "cell_type": "code",
   "execution_count": 9,
   "metadata": {
    "execution": {
     "iopub.execute_input": "2021-08-04T15:26:43.111640Z",
     "iopub.status.busy": "2021-08-04T15:26:43.111095Z",
     "iopub.status.idle": "2021-08-04T15:26:43.131445Z",
     "shell.execute_reply": "2021-08-04T15:26:43.130636Z",
     "shell.execute_reply.started": "2021-08-04T15:26:43.111585Z"
    }
   },
   "outputs": [
    {
     "data": {
      "text/html": [
       "<div>\n",
       "<style scoped>\n",
       "    .dataframe tbody tr th:only-of-type {\n",
       "        vertical-align: middle;\n",
       "    }\n",
       "\n",
       "    .dataframe tbody tr th {\n",
       "        vertical-align: top;\n",
       "    }\n",
       "\n",
       "    .dataframe thead th {\n",
       "        text-align: right;\n",
       "    }\n",
       "</style>\n",
       "<table border=\"1\" class=\"dataframe\">\n",
       "  <thead>\n",
       "    <tr style=\"text-align: right;\">\n",
       "      <th></th>\n",
       "      <th>Restaurant_id</th>\n",
       "      <th>Rating</th>\n",
       "    </tr>\n",
       "  </thead>\n",
       "  <tbody>\n",
       "    <tr>\n",
       "      <th>0</th>\n",
       "      <td>id_0</td>\n",
       "      <td>2.0</td>\n",
       "    </tr>\n",
       "    <tr>\n",
       "      <th>1</th>\n",
       "      <td>id_1</td>\n",
       "      <td>2.5</td>\n",
       "    </tr>\n",
       "    <tr>\n",
       "      <th>2</th>\n",
       "      <td>id_2</td>\n",
       "      <td>4.0</td>\n",
       "    </tr>\n",
       "    <tr>\n",
       "      <th>3</th>\n",
       "      <td>id_3</td>\n",
       "      <td>1.0</td>\n",
       "    </tr>\n",
       "    <tr>\n",
       "      <th>4</th>\n",
       "      <td>id_4</td>\n",
       "      <td>4.0</td>\n",
       "    </tr>\n",
       "  </tbody>\n",
       "</table>\n",
       "</div>"
      ],
      "text/plain": [
       "  Restaurant_id  Rating\n",
       "0          id_0     2.0\n",
       "1          id_1     2.5\n",
       "2          id_2     4.0\n",
       "3          id_3     1.0\n",
       "4          id_4     4.0"
      ]
     },
     "execution_count": 9,
     "metadata": {},
     "output_type": "execute_result"
    }
   ],
   "source": [
    "sample_submission.head(5)"
   ]
  },
  {
   "cell_type": "code",
   "execution_count": 10,
   "metadata": {
    "execution": {
     "iopub.execute_input": "2021-08-04T15:26:43.133252Z",
     "iopub.status.busy": "2021-08-04T15:26:43.132803Z",
     "iopub.status.idle": "2021-08-04T15:26:43.144263Z",
     "shell.execute_reply": "2021-08-04T15:26:43.143545Z",
     "shell.execute_reply.started": "2021-08-04T15:26:43.133194Z"
    }
   },
   "outputs": [
    {
     "name": "stdout",
     "output_type": "stream",
     "text": [
      "<class 'pandas.core.frame.DataFrame'>\n",
      "RangeIndex: 10000 entries, 0 to 9999\n",
      "Data columns (total 2 columns):\n",
      "Restaurant_id    10000 non-null object\n",
      "Rating           10000 non-null float64\n",
      "dtypes: float64(1), object(1)\n",
      "memory usage: 156.4+ KB\n"
     ]
    }
   ],
   "source": [
    "sample_submission.info()"
   ]
  },
  {
   "cell_type": "code",
   "execution_count": 11,
   "metadata": {
    "execution": {
     "iopub.execute_input": "2021-08-04T15:26:43.146135Z",
     "iopub.status.busy": "2021-08-04T15:26:43.145674Z",
     "iopub.status.idle": "2021-08-04T15:26:43.205381Z",
     "shell.execute_reply": "2021-08-04T15:26:43.204676Z",
     "shell.execute_reply.started": "2021-08-04T15:26:43.146092Z"
    }
   },
   "outputs": [],
   "source": [
    "# ВАЖНО! дря корректной обработки признаков объединяем трейн и тест в один датасет\n",
    "df_train['sample'] = 1 # помечаем где у нас трейн\n",
    "df_test['sample'] = 0 # помечаем где у нас тест\n",
    "df_test['Rating'] = 0 # в тесте у нас нет значения Rating, мы его должны предсказать, по этому пока просто заполняем нулями\n",
    "\n",
    "data = df_test.append(df_train, sort=False).reset_index(drop=True) # объединяем"
   ]
  },
  {
   "cell_type": "code",
   "execution_count": 12,
   "metadata": {
    "execution": {
     "iopub.execute_input": "2021-08-04T15:26:43.207013Z",
     "iopub.status.busy": "2021-08-04T15:26:43.206733Z",
     "iopub.status.idle": "2021-08-04T15:26:43.255540Z",
     "shell.execute_reply": "2021-08-04T15:26:43.254353Z",
     "shell.execute_reply.started": "2021-08-04T15:26:43.206967Z"
    }
   },
   "outputs": [
    {
     "name": "stdout",
     "output_type": "stream",
     "text": [
      "<class 'pandas.core.frame.DataFrame'>\n",
      "RangeIndex: 50000 entries, 0 to 49999\n",
      "Data columns (total 11 columns):\n",
      "Restaurant_id        50000 non-null object\n",
      "City                 50000 non-null object\n",
      "Cuisine Style        38410 non-null object\n",
      "Ranking              50000 non-null float64\n",
      "Price Range          32639 non-null object\n",
      "Number of Reviews    46800 non-null float64\n",
      "Reviews              49998 non-null object\n",
      "URL_TA               50000 non-null object\n",
      "ID_TA                50000 non-null object\n",
      "sample               50000 non-null int64\n",
      "Rating               50000 non-null float64\n",
      "dtypes: float64(3), int64(1), object(7)\n",
      "memory usage: 4.2+ MB\n"
     ]
    }
   ],
   "source": [
    "data.info()"
   ]
  },
  {
   "cell_type": "markdown",
   "metadata": {},
   "source": [
    "Подробнее по признакам:\n",
    "* City: Город \n",
    "* Cuisine Style: Кухня\n",
    "* Ranking: Ранг ресторана относительно других ресторанов в этом городе\n",
    "* Price Range: Цены в ресторане в 3 категориях\n",
    "* Number of Reviews: Количество отзывов\n",
    "* Reviews: 2 последних отзыва и даты этих отзывов\n",
    "* URL_TA: страница ресторана на 'www.tripadvisor.com' \n",
    "* ID_TA: ID ресторана в TripAdvisor\n",
    "* Rating: Рейтинг ресторана"
   ]
  },
  {
   "cell_type": "code",
   "execution_count": 13,
   "metadata": {
    "execution": {
     "iopub.execute_input": "2021-08-04T15:26:43.257995Z",
     "iopub.status.busy": "2021-08-04T15:26:43.257416Z",
     "iopub.status.idle": "2021-08-04T15:26:43.283039Z",
     "shell.execute_reply": "2021-08-04T15:26:43.282068Z",
     "shell.execute_reply.started": "2021-08-04T15:26:43.257770Z"
    }
   },
   "outputs": [
    {
     "data": {
      "text/html": [
       "<div>\n",
       "<style scoped>\n",
       "    .dataframe tbody tr th:only-of-type {\n",
       "        vertical-align: middle;\n",
       "    }\n",
       "\n",
       "    .dataframe tbody tr th {\n",
       "        vertical-align: top;\n",
       "    }\n",
       "\n",
       "    .dataframe thead th {\n",
       "        text-align: right;\n",
       "    }\n",
       "</style>\n",
       "<table border=\"1\" class=\"dataframe\">\n",
       "  <thead>\n",
       "    <tr style=\"text-align: right;\">\n",
       "      <th></th>\n",
       "      <th>Restaurant_id</th>\n",
       "      <th>City</th>\n",
       "      <th>Cuisine Style</th>\n",
       "      <th>Ranking</th>\n",
       "      <th>Price Range</th>\n",
       "      <th>Number of Reviews</th>\n",
       "      <th>Reviews</th>\n",
       "      <th>URL_TA</th>\n",
       "      <th>ID_TA</th>\n",
       "      <th>sample</th>\n",
       "      <th>Rating</th>\n",
       "    </tr>\n",
       "  </thead>\n",
       "  <tbody>\n",
       "    <tr>\n",
       "      <th>36574</th>\n",
       "      <td>id_1988</td>\n",
       "      <td>Milan</td>\n",
       "      <td>['Italian', 'Pizza', 'Vegetarian Friendly']</td>\n",
       "      <td>1990.0</td>\n",
       "      <td>$</td>\n",
       "      <td>172.0</td>\n",
       "      <td>[['4 formaggio', \"You should go, it's tasty\"],...</td>\n",
       "      <td>/Restaurant_Review-g187849-d3726665-Reviews-Pi...</td>\n",
       "      <td>d3726665</td>\n",
       "      <td>1</td>\n",
       "      <td>4.0</td>\n",
       "    </tr>\n",
       "    <tr>\n",
       "      <th>9510</th>\n",
       "      <td>id_9510</td>\n",
       "      <td>Munich</td>\n",
       "      <td>['German', 'Bar', 'European', 'Pub', 'Central ...</td>\n",
       "      <td>1390.0</td>\n",
       "      <td>$$ - $$$</td>\n",
       "      <td>61.0</td>\n",
       "      <td>[['Late lunch.', 'Had brunch'], ['09/25/2017',...</td>\n",
       "      <td>/Restaurant_Review-g187309-d1039721-Reviews-Kr...</td>\n",
       "      <td>d1039721</td>\n",
       "      <td>0</td>\n",
       "      <td>0.0</td>\n",
       "    </tr>\n",
       "    <tr>\n",
       "      <th>4030</th>\n",
       "      <td>id_4030</td>\n",
       "      <td>Paris</td>\n",
       "      <td>['Cafe', 'Healthy', 'Mediterranean', 'European...</td>\n",
       "      <td>5169.0</td>\n",
       "      <td>$</td>\n",
       "      <td>19.0</td>\n",
       "      <td>[['Toujours un plaisir / Very nice and cosy p....</td>\n",
       "      <td>/Restaurant_Review-g187147-d9583347-Reviews-Ra...</td>\n",
       "      <td>d9583347</td>\n",
       "      <td>0</td>\n",
       "      <td>0.0</td>\n",
       "    </tr>\n",
       "    <tr>\n",
       "      <th>25505</th>\n",
       "      <td>id_2202</td>\n",
       "      <td>Madrid</td>\n",
       "      <td>['Chinese', 'Asian']</td>\n",
       "      <td>2204.0</td>\n",
       "      <td>$$ - $$$</td>\n",
       "      <td>53.0</td>\n",
       "      <td>[['Nice food', 'Tasty Food'], ['10/10/2017', '...</td>\n",
       "      <td>/Restaurant_Review-g187514-d2078308-Reviews-Gr...</td>\n",
       "      <td>d2078308</td>\n",
       "      <td>1</td>\n",
       "      <td>4.0</td>\n",
       "    </tr>\n",
       "    <tr>\n",
       "      <th>11499</th>\n",
       "      <td>id_1757</td>\n",
       "      <td>Lisbon</td>\n",
       "      <td>NaN</td>\n",
       "      <td>1759.0</td>\n",
       "      <td>NaN</td>\n",
       "      <td>10.0</td>\n",
       "      <td>[['KFC'], ['07/14/2017']]</td>\n",
       "      <td>/Restaurant_Review-g189158-d12207700-Reviews-K...</td>\n",
       "      <td>d12207700</td>\n",
       "      <td>1</td>\n",
       "      <td>4.0</td>\n",
       "    </tr>\n",
       "  </tbody>\n",
       "</table>\n",
       "</div>"
      ],
      "text/plain": [
       "      Restaurant_id    City  \\\n",
       "36574       id_1988   Milan   \n",
       "9510        id_9510  Munich   \n",
       "4030        id_4030   Paris   \n",
       "25505       id_2202  Madrid   \n",
       "11499       id_1757  Lisbon   \n",
       "\n",
       "                                           Cuisine Style  Ranking Price Range  \\\n",
       "36574        ['Italian', 'Pizza', 'Vegetarian Friendly']   1990.0           $   \n",
       "9510   ['German', 'Bar', 'European', 'Pub', 'Central ...   1390.0    $$ - $$$   \n",
       "4030   ['Cafe', 'Healthy', 'Mediterranean', 'European...   5169.0           $   \n",
       "25505                               ['Chinese', 'Asian']   2204.0    $$ - $$$   \n",
       "11499                                                NaN   1759.0         NaN   \n",
       "\n",
       "       Number of Reviews                                            Reviews  \\\n",
       "36574              172.0  [['4 formaggio', \"You should go, it's tasty\"],...   \n",
       "9510                61.0  [['Late lunch.', 'Had brunch'], ['09/25/2017',...   \n",
       "4030                19.0  [['Toujours un plaisir / Very nice and cosy p....   \n",
       "25505               53.0  [['Nice food', 'Tasty Food'], ['10/10/2017', '...   \n",
       "11499               10.0                          [['KFC'], ['07/14/2017']]   \n",
       "\n",
       "                                                  URL_TA      ID_TA  sample  \\\n",
       "36574  /Restaurant_Review-g187849-d3726665-Reviews-Pi...   d3726665       1   \n",
       "9510   /Restaurant_Review-g187309-d1039721-Reviews-Kr...   d1039721       0   \n",
       "4030   /Restaurant_Review-g187147-d9583347-Reviews-Ra...   d9583347       0   \n",
       "25505  /Restaurant_Review-g187514-d2078308-Reviews-Gr...   d2078308       1   \n",
       "11499  /Restaurant_Review-g189158-d12207700-Reviews-K...  d12207700       1   \n",
       "\n",
       "       Rating  \n",
       "36574     4.0  \n",
       "9510      0.0  \n",
       "4030      0.0  \n",
       "25505     4.0  \n",
       "11499     4.0  "
      ]
     },
     "execution_count": 13,
     "metadata": {},
     "output_type": "execute_result"
    }
   ],
   "source": [
    "data.sample(5)"
   ]
  },
  {
   "cell_type": "code",
   "execution_count": 14,
   "metadata": {
    "execution": {
     "iopub.execute_input": "2021-08-04T15:26:43.285388Z",
     "iopub.status.busy": "2021-08-04T15:26:43.284738Z",
     "iopub.status.idle": "2021-08-04T15:26:43.295991Z",
     "shell.execute_reply": "2021-08-04T15:26:43.294886Z",
     "shell.execute_reply.started": "2021-08-04T15:26:43.285324Z"
    }
   },
   "outputs": [
    {
     "data": {
      "text/plain": [
       "\"[['Very good reviews!', 'Fine dining in Hakaniemi'], ['12/05/2017', '10/29/2017']]\""
      ]
     },
     "execution_count": 14,
     "metadata": {},
     "output_type": "execute_result"
    }
   ],
   "source": [
    "data.Reviews[1]"
   ]
  },
  {
   "cell_type": "markdown",
   "metadata": {},
   "source": [
    "Как видим, большинство признаков у нас требует очистки и предварительной обработки."
   ]
  },
  {
   "cell_type": "code",
   "execution_count": 15,
   "metadata": {
    "execution": {
     "iopub.execute_input": "2021-08-04T15:26:43.297640Z",
     "iopub.status.busy": "2021-08-04T15:26:43.297360Z",
     "iopub.status.idle": "2021-08-04T15:26:43.606027Z",
     "shell.execute_reply": "2021-08-04T15:26:43.605026Z",
     "shell.execute_reply.started": "2021-08-04T15:26:43.297597Z"
    }
   },
   "outputs": [
    {
     "data": {
      "image/png": "[encoded data removed]",
      "text/plain": [
       "<Figure size 360x288 with 1 Axes>"
      ]
     },
     "metadata": {
      "needs_background": "light"
     },
     "output_type": "display_data"
    }
   ],
   "source": [
    "# Считаем процент пропусков\n",
    "per_nans = pd.DataFrame(1-data.count()/data.shape[0]).reset_index().rename({0:'percent'}, \\\n",
    "                                                axis=1).sort_values('percent', ascending=False).query('percent>0')\n",
    "# Строим график относительного количества пропущенных значений:\n",
    "fig, ax = plt.subplots(figsize = (5, 4))\n",
    "bar_plot = sns.barplot(x='percent', y='index', data=per_nans, alpha=0.8, ci=None)\n",
    "for ytick in bar_plot.get_yticks():\n",
    "        bar_plot.text(per_nans.iloc[ytick][1]+0.005, ytick+0.2, str(round(per_nans.iloc[ytick][1]*100,2))+' %', \n",
    "                    horizontalalignment='center',size=10, color='black',weight='semibold')\n",
    "plt.title('Относительное количество пропусков')\n",
    "plt.ylabel('')\n",
    "plt.xlabel('Percent', fontsize=12)\n",
    "plt.show()"
   ]
  },
  {
   "cell_type": "markdown",
   "metadata": {},
   "source": [
    "# Cleaning and Prepping Data\n",
    "Обычно данные содержат в себе кучу мусора, который необходимо почистить, для того чтобы привести их в приемлемый формат. Чистка данных — это необходимый этап решения почти любой реальной задачи.   \n",
    "![](https://analyticsindiamag.com/wp-content/uploads/2018/01/data-cleaning.png)"
   ]
  },
  {
   "cell_type": "markdown",
   "metadata": {},
   "source": [
    "## Очистка и обработка признаков"
   ]
  },
  {
   "cell_type": "markdown",
   "metadata": {},
   "source": [
    "# Restaurant_id"
   ]
  },
  {
   "cell_type": "code",
   "execution_count": 16,
   "metadata": {
    "execution": {
     "iopub.execute_input": "2021-08-04T15:26:43.608239Z",
     "iopub.status.busy": "2021-08-04T15:26:43.607704Z",
     "iopub.status.idle": "2021-08-04T15:26:43.656283Z",
     "shell.execute_reply": "2021-08-04T15:26:43.655307Z",
     "shell.execute_reply.started": "2021-08-04T15:26:43.608181Z"
    }
   },
   "outputs": [
    {
     "data": {
      "text/plain": [
       "id_227      19\n",
       "id_633      19\n",
       "id_871      19\n",
       "id_436      19\n",
       "id_585      18\n",
       "            ..\n",
       "id_14391     1\n",
       "id_10818     1\n",
       "id_8907      1\n",
       "id_12113     1\n",
       "id_12180     1\n",
       "Name: Restaurant_id, Length: 13094, dtype: int64"
      ]
     },
     "execution_count": 16,
     "metadata": {},
     "output_type": "execute_result"
    }
   ],
   "source": [
    "data['Restaurant_id'].value_counts()"
   ]
  },
  {
   "cell_type": "markdown",
   "metadata": {},
   "source": [
    "Некоторые id встречаются более 1 раза, что может быть всязано с тем, что они являются сетевыми. Создадим новый признак chain: 1 - ресторан сетевой, 0 - нет."
   ]
  },
  {
   "cell_type": "code",
   "execution_count": 17,
   "metadata": {
    "execution": {
     "iopub.execute_input": "2021-08-04T15:26:43.658821Z",
     "iopub.status.busy": "2021-08-04T15:26:43.658105Z",
     "iopub.status.idle": "2021-08-04T15:26:43.761388Z",
     "shell.execute_reply": "2021-08-04T15:26:43.760627Z",
     "shell.execute_reply.started": "2021-08-04T15:26:43.658752Z"
    }
   },
   "outputs": [],
   "source": [
    "chain_lst = list(data.Restaurant_id.value_counts()[data.Restaurant_id.value_counts() > 1].index)\n",
    "data['chain'] = data[data.Restaurant_id.isin(chain_lst)].Restaurant_id.apply(lambda x: 1)\n",
    "data['chain'].fillna(0, inplace=True)\n",
    "data['chain'] = data['chain'].astype(int)"
   ]
  },
  {
   "cell_type": "markdown",
   "metadata": {},
   "source": [
    "# City"
   ]
  },
  {
   "cell_type": "markdown",
   "metadata": {},
   "source": [
    "Посмотрим на распределение рейтингов по городам"
   ]
  },
  {
   "cell_type": "code",
   "execution_count": 18,
   "metadata": {
    "execution": {
     "iopub.execute_input": "2021-08-04T15:26:43.763241Z",
     "iopub.status.busy": "2021-08-04T15:26:43.762752Z",
     "iopub.status.idle": "2021-08-04T15:26:44.710600Z",
     "shell.execute_reply": "2021-08-04T15:26:44.709732Z",
     "shell.execute_reply.started": "2021-08-04T15:26:43.763197Z"
    }
   },
   "outputs": [
    {
     "data": {
      "image/png": "[encoded data removed]",
      "text/plain": [
       "<Figure size 1296x504 with 1 Axes>"
      ]
     },
     "metadata": {
      "needs_background": "light"
     },
     "output_type": "display_data"
    }
   ],
   "source": [
    "plt.figure(figsize=(18, 7))\n",
    "sns.boxplot(x='City', y='Rating', data=data[data['sample'] == 1])\n",
    "plt.xticks(rotation=90);"
   ]
  },
  {
   "cell_type": "markdown",
   "metadata": {},
   "source": [
    "### Number of reviews"
   ]
  },
  {
   "cell_type": "code",
   "execution_count": 19,
   "metadata": {
    "execution": {
     "iopub.execute_input": "2021-08-04T15:26:44.712497Z",
     "iopub.status.busy": "2021-08-04T15:26:44.712212Z",
     "iopub.status.idle": "2021-08-04T15:26:44.718896Z",
     "shell.execute_reply": "2021-08-04T15:26:44.717926Z",
     "shell.execute_reply.started": "2021-08-04T15:26:44.712447Z"
    }
   },
   "outputs": [],
   "source": [
    "# Обработаем пропуски столбца Number of Reviews - создадим дополнительный столбец\n",
    "data['Number_of_Reviews_isNAN'] = pd.isna(data['Number of Reviews']).astype('uint8')"
   ]
  },
  {
   "cell_type": "code",
   "execution_count": 20,
   "metadata": {
    "execution": {
     "iopub.execute_input": "2021-08-04T15:26:44.720840Z",
     "iopub.status.busy": "2021-08-04T15:26:44.720514Z",
     "iopub.status.idle": "2021-08-04T15:26:44.737048Z",
     "shell.execute_reply": "2021-08-04T15:26:44.736054Z",
     "shell.execute_reply.started": "2021-08-04T15:26:44.720785Z"
    }
   },
   "outputs": [],
   "source": [
    "# Заполним пропуски нулями, предполагая, что NaN может обозначать отсутствие отзывов\n",
    "data['Number of Reviews'].fillna(0, inplace=True)"
   ]
  },
  {
   "cell_type": "markdown",
   "metadata": {},
   "source": [
    "### Price Range"
   ]
  },
  {
   "cell_type": "code",
   "execution_count": 21,
   "metadata": {
    "execution": {
     "iopub.execute_input": "2021-08-04T15:26:44.739165Z",
     "iopub.status.busy": "2021-08-04T15:26:44.738884Z",
     "iopub.status.idle": "2021-08-04T15:26:44.763004Z",
     "shell.execute_reply": "2021-08-04T15:26:44.761957Z",
     "shell.execute_reply.started": "2021-08-04T15:26:44.739122Z"
    }
   },
   "outputs": [
    {
     "data": {
      "text/plain": [
       "$$ - $$$    23041\n",
       "$            7816\n",
       "$$$$         1782\n",
       "Name: Price Range, dtype: int64"
      ]
     },
     "execution_count": 21,
     "metadata": {},
     "output_type": "execute_result"
    }
   ],
   "source": [
    "data['Price Range'].value_counts()"
   ]
  },
  {
   "cell_type": "markdown",
   "metadata": {},
   "source": [
    "По описанию 'Price Range' это - Цены в ресторане.  \n",
    "Их можно поставить по возрастанию (значит это не категориальный признак). А это значит, что их можно заменить последовательными числами, например 1,2,3  "
   ]
  },
  {
   "cell_type": "code",
   "execution_count": 22,
   "metadata": {
    "execution": {
     "iopub.execute_input": "2021-08-04T15:26:44.764762Z",
     "iopub.status.busy": "2021-08-04T15:26:44.764441Z",
     "iopub.status.idle": "2021-08-04T15:26:44.823459Z",
     "shell.execute_reply": "2021-08-04T15:26:44.822403Z",
     "shell.execute_reply.started": "2021-08-04T15:26:44.764719Z"
    }
   },
   "outputs": [],
   "source": [
    "# Создадим дополнительный столбец Price_Range_isNAN\n",
    "data['Price_Range_isNAN'] = pd.isna(data['Price Range']).astype('uint8')\n",
    "# Заменим Price Range числами, при этом попробуем заменить NAN на 2 - самую часто встречающуюся ценовую категорию\n",
    "replace_price_range = {'Price Range': {\"$\": 1, \"$$ - $$$\": 2, \"$$$$\": 3, np.NaN: 2}}\n",
    "data.replace(replace_price_range, inplace=True)"
   ]
  },
  {
   "cell_type": "markdown",
   "metadata": {},
   "source": [
    "### Cuisine Style"
   ]
  },
  {
   "cell_type": "code",
   "execution_count": 23,
   "metadata": {
    "execution": {
     "iopub.execute_input": "2021-08-04T15:26:44.825296Z",
     "iopub.status.busy": "2021-08-04T15:26:44.825008Z",
     "iopub.status.idle": "2021-08-04T15:26:44.836782Z",
     "shell.execute_reply": "2021-08-04T15:26:44.835632Z",
     "shell.execute_reply.started": "2021-08-04T15:26:44.825243Z"
    }
   },
   "outputs": [],
   "source": [
    "# Также создадим столбец, содержащий информацию о пропусках\n",
    "data['Cuisine_Style_isNAN'] = pd.isna(data['Cuisine Style']).astype('uint8')"
   ]
  },
  {
   "cell_type": "code",
   "execution_count": 24,
   "metadata": {
    "execution": {
     "iopub.execute_input": "2021-08-04T15:26:44.838383Z",
     "iopub.status.busy": "2021-08-04T15:26:44.838134Z",
     "iopub.status.idle": "2021-08-04T15:26:44.855010Z",
     "shell.execute_reply": "2021-08-04T15:26:44.853835Z",
     "shell.execute_reply.started": "2021-08-04T15:26:44.838341Z"
    }
   },
   "outputs": [],
   "source": [
    "# Заменим пропуски на Unknown\n",
    "data['Cuisine Style'] = data['Cuisine Style'].fillna(\"['Unknown']\")"
   ]
  },
  {
   "cell_type": "code",
   "execution_count": 25,
   "metadata": {
    "execution": {
     "iopub.execute_input": "2021-08-04T15:26:44.856839Z",
     "iopub.status.busy": "2021-08-04T15:26:44.856543Z",
     "iopub.status.idle": "2021-08-04T15:26:44.865611Z",
     "shell.execute_reply": "2021-08-04T15:26:44.864732Z",
     "shell.execute_reply.started": "2021-08-04T15:26:44.856793Z"
    }
   },
   "outputs": [],
   "source": [
    "def cuisine (df):\n",
    "    # Приводим все названия кухонь к одному формату.\n",
    "    df['Cuisine Style'] = df['Cuisine Style'].str.lower()\n",
    "\n",
    "    # Делаем преобразования.\n",
    "    cuisineStyle = set()\n",
    "    cuisines = df['Cuisine Style'].to_list()\n",
    "\n",
    "    # Заполняем сет для получения уникальных значений.\n",
    "    # А так же создаем список\n",
    "    for cuisine in cuisines:\n",
    "        cuisine = re.findall(r\"'([\\s\\S]+?)'\", cuisine)\n",
    "        for j in cuisine:\n",
    "            cuisineStyle.add(j)\n",
    "    \n",
    "    for item in cuisineStyle:\n",
    "        df[item] = df['Cuisine Style'].apply(lambda x: 1 if item in x else 0)\n",
    "    return df"
   ]
  },
  {
   "cell_type": "code",
   "execution_count": 26,
   "metadata": {
    "execution": {
     "iopub.execute_input": "2021-08-04T15:26:44.867391Z",
     "iopub.status.busy": "2021-08-04T15:26:44.867121Z",
     "iopub.status.idle": "2021-08-04T15:26:49.221406Z",
     "shell.execute_reply": "2021-08-04T15:26:49.220344Z",
     "shell.execute_reply.started": "2021-08-04T15:26:44.867345Z"
    }
   },
   "outputs": [],
   "source": [
    "data = cuisine(data)"
   ]
  },
  {
   "cell_type": "markdown",
   "metadata": {},
   "source": [
    "Можно сделать фиктивные переменные"
   ]
  },
  {
   "cell_type": "markdown",
   "metadata": {},
   "source": [
    "### Ranking"
   ]
  },
  {
   "cell_type": "code",
   "execution_count": 27,
   "metadata": {
    "execution": {
     "iopub.execute_input": "2021-08-04T15:26:49.223050Z",
     "iopub.status.busy": "2021-08-04T15:26:49.222806Z",
     "iopub.status.idle": "2021-08-04T15:26:49.719443Z",
     "shell.execute_reply": "2021-08-04T15:26:49.718629Z",
     "shell.execute_reply.started": "2021-08-04T15:26:49.223016Z"
    }
   },
   "outputs": [
    {
     "data": {
      "text/plain": [
       "<matplotlib.axes._subplots.AxesSubplot at 0x7f4ba6508390>"
      ]
     },
     "execution_count": 27,
     "metadata": {},
     "output_type": "execute_result"
    },
    {
     "data": {
      "image/png": "[encoded data removed]",
      "text/plain": [
       "<Figure size 720x504 with 1 Axes>"
      ]
     },
     "metadata": {
      "needs_background": "light"
     },
     "output_type": "display_data"
    }
   ],
   "source": [
    "# Посмотрим распределение признака\n",
    "plt.rcParams['figure.figsize'] = (10,7)\n",
    "data['Ranking'].hist(bins=100)"
   ]
  },
  {
   "cell_type": "markdown",
   "metadata": {},
   "source": [
    "У нас много ресторанов, которые не дотягивают и до 2500 места в своем городе, а что там по городам?"
   ]
  },
  {
   "cell_type": "code",
   "execution_count": 28,
   "metadata": {
    "execution": {
     "iopub.execute_input": "2021-08-04T15:26:49.722013Z",
     "iopub.status.busy": "2021-08-04T15:26:49.721469Z",
     "iopub.status.idle": "2021-08-04T15:26:50.201990Z",
     "shell.execute_reply": "2021-08-04T15:26:50.200927Z",
     "shell.execute_reply.started": "2021-08-04T15:26:49.721807Z"
    }
   },
   "outputs": [
    {
     "data": {
      "text/plain": [
       "<matplotlib.axes._subplots.AxesSubplot at 0x7f4ba6391f28>"
      ]
     },
     "execution_count": 28,
     "metadata": {},
     "output_type": "execute_result"
    },
    {
     "data": {
      "image/png": "[encoded data removed]",
      "text/plain": [
       "<Figure size 720x504 with 1 Axes>"
      ]
     },
     "metadata": {
      "needs_background": "light"
     },
     "output_type": "display_data"
    }
   ],
   "source": [
    "data['City'].value_counts(ascending=True).plot(kind='barh')"
   ]
  },
  {
   "cell_type": "code",
   "execution_count": 29,
   "metadata": {
    "execution": {
     "iopub.execute_input": "2021-08-04T15:26:50.204583Z",
     "iopub.status.busy": "2021-08-04T15:26:50.203890Z",
     "iopub.status.idle": "2021-08-04T15:26:50.699022Z",
     "shell.execute_reply": "2021-08-04T15:26:50.698029Z",
     "shell.execute_reply.started": "2021-08-04T15:26:50.204504Z"
    }
   },
   "outputs": [
    {
     "data": {
      "text/plain": [
       "<matplotlib.axes._subplots.AxesSubplot at 0x7f4ba63be8d0>"
      ]
     },
     "execution_count": 29,
     "metadata": {},
     "output_type": "execute_result"
    },
    {
     "data": {
      "image/png": "[encoded data removed]",
      "text/plain": [
       "<Figure size 720x504 with 1 Axes>"
      ]
     },
     "metadata": {
      "needs_background": "light"
     },
     "output_type": "display_data"
    }
   ],
   "source": [
    "data['Ranking'][data['City'] =='London'].hist(bins=100)"
   ]
  },
  {
   "cell_type": "code",
   "execution_count": 30,
   "metadata": {
    "execution": {
     "iopub.execute_input": "2021-08-04T15:26:50.701501Z",
     "iopub.status.busy": "2021-08-04T15:26:50.700872Z",
     "iopub.status.idle": "2021-08-04T15:26:53.467892Z",
     "shell.execute_reply": "2021-08-04T15:26:53.466791Z",
     "shell.execute_reply.started": "2021-08-04T15:26:50.701438Z"
    }
   },
   "outputs": [
    {
     "data": {
      "image/png": "[encoded data removed]",
      "text/plain": [
       "<Figure size 720x504 with 1 Axes>"
      ]
     },
     "metadata": {
      "needs_background": "light"
     },
     "output_type": "display_data"
    }
   ],
   "source": [
    "# посмотрим на топ 10 городов\n",
    "for x in (data['City'].value_counts())[0:10].index:\n",
    "    data['Ranking'][data['City'] == x].hist(bins=100)\n",
    "plt.show()"
   ]
  },
  {
   "cell_type": "markdown",
   "metadata": {},
   "source": [
    "Получается, что Ranking имеет нормальное распределение, просто в больших городах больше ресторанов, из-за мы этого имеем смещение."
   ]
  },
  {
   "cell_type": "markdown",
   "metadata": {},
   "source": [
    "### Нормализуем переменную Ranking"
   ]
  },
  {
   "cell_type": "code",
   "execution_count": 31,
   "metadata": {
    "execution": {
     "iopub.execute_input": "2021-08-04T15:26:53.470613Z",
     "iopub.status.busy": "2021-08-04T15:26:53.469882Z",
     "iopub.status.idle": "2021-08-04T15:26:53.507089Z",
     "shell.execute_reply": "2021-08-04T15:26:53.506222Z",
     "shell.execute_reply.started": "2021-08-04T15:26:53.470509Z"
    }
   },
   "outputs": [],
   "source": [
    "# Создадим признак - количество ресторанов в городе city_restaurants\n",
    "per_city_dict = dict(data['City'].value_counts())\n",
    "data['city_restaurants'] = data.City.map(per_city_dict)"
   ]
  },
  {
   "cell_type": "code",
   "execution_count": 32,
   "metadata": {
    "execution": {
     "iopub.execute_input": "2021-08-04T15:26:53.513269Z",
     "iopub.status.busy": "2021-08-04T15:26:53.512730Z",
     "iopub.status.idle": "2021-08-04T15:26:53.529898Z",
     "shell.execute_reply": "2021-08-04T15:26:53.528612Z",
     "shell.execute_reply.started": "2021-08-04T15:26:53.513207Z"
    }
   },
   "outputs": [],
   "source": [
    "# Добавим признак - нормализованный ранг ranking_norm\n",
    "data['ranking_norm'] = data.Ranking / data.city_restaurants"
   ]
  },
  {
   "cell_type": "code",
   "execution_count": 33,
   "metadata": {
    "execution": {
     "iopub.execute_input": "2021-08-04T15:26:53.531729Z",
     "iopub.status.busy": "2021-08-04T15:26:53.531410Z",
     "iopub.status.idle": "2021-08-04T15:26:56.341904Z",
     "shell.execute_reply": "2021-08-04T15:26:56.340706Z",
     "shell.execute_reply.started": "2021-08-04T15:26:53.531674Z"
    }
   },
   "outputs": [
    {
     "data": {
      "image/png": "[encoded data removed]",
      "text/plain": [
       "<Figure size 720x504 with 1 Axes>"
      ]
     },
     "metadata": {
      "needs_background": "light"
     },
     "output_type": "display_data"
    }
   ],
   "source": [
    "# Распределение после нормализации\n",
    "for x in (data['City'].value_counts())[0:10].index:\n",
    "    data['ranking_norm'][data['City'] == x].hist(bins=100)\n",
    "plt.show()"
   ]
  },
  {
   "cell_type": "code",
   "execution_count": 34,
   "metadata": {
    "execution": {
     "iopub.execute_input": "2021-08-04T15:26:56.344155Z",
     "iopub.status.busy": "2021-08-04T15:26:56.343707Z",
     "iopub.status.idle": "2021-08-04T15:26:56.468681Z",
     "shell.execute_reply": "2021-08-04T15:26:56.467910Z",
     "shell.execute_reply.started": "2021-08-04T15:26:56.344077Z"
    }
   },
   "outputs": [],
   "source": [
    "# Оставим для обучения модели только нормализованны ранг\n",
    "data.drop(['Ranking'], axis=1, inplace=True)"
   ]
  },
  {
   "cell_type": "markdown",
   "metadata": {},
   "source": [
    "### City"
   ]
  },
  {
   "cell_type": "code",
   "execution_count": 35,
   "metadata": {
    "execution": {
     "iopub.execute_input": "2021-08-04T15:26:56.470130Z",
     "iopub.status.busy": "2021-08-04T15:26:56.469747Z",
     "iopub.status.idle": "2021-08-04T15:26:56.535500Z",
     "shell.execute_reply": "2021-08-04T15:26:56.534705Z",
     "shell.execute_reply.started": "2021-08-04T15:26:56.470091Z"
    }
   },
   "outputs": [],
   "source": [
    "# Создадим dummy - переменные\n",
    "data = pd.get_dummies(data, columns=[ 'City',], dummy_na=True)"
   ]
  },
  {
   "cell_type": "markdown",
   "metadata": {},
   "source": [
    "## Reviews"
   ]
  },
  {
   "cell_type": "markdown",
   "metadata": {},
   "source": [
    "Создадим новый признак - количество положительных слов в отзывах review_mood"
   ]
  },
  {
   "cell_type": "code",
   "execution_count": 36,
   "metadata": {
    "execution": {
     "iopub.execute_input": "2021-08-04T15:26:56.536978Z",
     "iopub.status.busy": "2021-08-04T15:26:56.536582Z",
     "iopub.status.idle": "2021-08-04T15:26:58.759212Z",
     "shell.execute_reply": "2021-08-04T15:26:58.758173Z",
     "shell.execute_reply.started": "2021-08-04T15:26:56.536938Z"
    }
   },
   "outputs": [],
   "source": [
    "good = ['good', 'great', 'nice', 'best', 'excellent', 'delicious', 'friendly',\n",
    "        'lovely', 'amazing', 'tasty', 'fantastic', 'perfect', 'wonderful',\n",
    "        'super', 'awesome', 'love', 'beautiful', 'superb', 'interesting',\n",
    "        'yummy', 'fine', 'favourite', 'surprise', 'loved', 'brilliant',\n",
    "        'favorite']\n",
    "\n",
    "data['words'] = data.Reviews.str.findall(r\"(\\w+)\")\n",
    "def mood(review):\n",
    "    ''' Подсчет положительных слов в отзывах на ресторан.\n",
    "    Возвращает количество положительных слов в отзывах. \n",
    "    '''\n",
    "    i = 0\n",
    "    for word in review:\n",
    "        for mood in good:\n",
    "            if mood == word.lower():\n",
    "                i += 1\n",
    "    return i\n",
    "data['review_mood'] = data.words.dropna().apply(mood)\n",
    "data.review_mood.fillna(0, inplace=True)"
   ]
  },
  {
   "cell_type": "code",
   "execution_count": 37,
   "metadata": {
    "execution": {
     "iopub.execute_input": "2021-08-04T15:26:58.760975Z",
     "iopub.status.busy": "2021-08-04T15:26:58.760694Z",
     "iopub.status.idle": "2021-08-04T15:26:58.865695Z",
     "shell.execute_reply": "2021-08-04T15:26:58.864635Z",
     "shell.execute_reply.started": "2021-08-04T15:26:58.760924Z"
    }
   },
   "outputs": [],
   "source": [
    "data.drop(['ID_TA'], axis=1, inplace=True)\n",
    "data.drop(['URL_TA'], axis=1, inplace=True)"
   ]
  },
  {
   "cell_type": "markdown",
   "metadata": {},
   "source": [
    "### Посмотрим распределение целевой переменной"
   ]
  },
  {
   "cell_type": "code",
   "execution_count": 38,
   "metadata": {
    "execution": {
     "iopub.execute_input": "2021-08-04T15:26:58.867460Z",
     "iopub.status.busy": "2021-08-04T15:26:58.867169Z",
     "iopub.status.idle": "2021-08-04T15:26:59.137452Z",
     "shell.execute_reply": "2021-08-04T15:26:59.136292Z",
     "shell.execute_reply.started": "2021-08-04T15:26:58.867406Z"
    }
   },
   "outputs": [
    {
     "data": {
      "text/plain": [
       "<matplotlib.axes._subplots.AxesSubplot at 0x7f4ba5a94128>"
      ]
     },
     "execution_count": 38,
     "metadata": {},
     "output_type": "execute_result"
    },
    {
     "data": {
      "image/png": "[encoded data removed]",
      "text/plain": [
       "<Figure size 720x504 with 1 Axes>"
      ]
     },
     "metadata": {
      "needs_background": "light"
     },
     "output_type": "display_data"
    }
   ],
   "source": [
    "df_train['Rating'].value_counts(ascending=True).plot(kind='barh')"
   ]
  },
  {
   "cell_type": "markdown",
   "metadata": {},
   "source": [
    "### Посмотрим распределение целевой переменной относительно признака"
   ]
  },
  {
   "cell_type": "code",
   "execution_count": 39,
   "metadata": {
    "execution": {
     "iopub.execute_input": "2021-08-04T15:26:59.140088Z",
     "iopub.status.busy": "2021-08-04T15:26:59.139504Z",
     "iopub.status.idle": "2021-08-04T15:26:59.666965Z",
     "shell.execute_reply": "2021-08-04T15:26:59.665754Z",
     "shell.execute_reply.started": "2021-08-04T15:26:59.139886Z"
    }
   },
   "outputs": [
    {
     "data": {
      "text/plain": [
       "<matplotlib.axes._subplots.AxesSubplot at 0x7f4b9ae0ccf8>"
      ]
     },
     "execution_count": 39,
     "metadata": {},
     "output_type": "execute_result"
    },
    {
     "data": {
      "image/png": "[encoded data removed]",
      "text/plain": [
       "<Figure size 720x504 with 1 Axes>"
      ]
     },
     "metadata": {
      "needs_background": "light"
     },
     "output_type": "display_data"
    }
   ],
   "source": [
    "data['ranking_norm'][data['Rating'] == 5].hist(bins=100)"
   ]
  },
  {
   "cell_type": "markdown",
   "metadata": {},
   "source": [
    "Распределение напоминает нормальное"
   ]
  },
  {
   "cell_type": "code",
   "execution_count": 40,
   "metadata": {
    "execution": {
     "iopub.execute_input": "2021-08-04T15:26:59.669371Z",
     "iopub.status.busy": "2021-08-04T15:26:59.668838Z",
     "iopub.status.idle": "2021-08-04T15:27:00.190512Z",
     "shell.execute_reply": "2021-08-04T15:27:00.189535Z",
     "shell.execute_reply.started": "2021-08-04T15:26:59.669168Z"
    }
   },
   "outputs": [
    {
     "data": {
      "text/plain": [
       "<matplotlib.axes._subplots.AxesSubplot at 0x7f4b9ae2d9e8>"
      ]
     },
     "execution_count": 40,
     "metadata": {},
     "output_type": "execute_result"
    },
    {
     "data": {
      "image/png": "[encoded data removed]",
      "text/plain": [
       "<Figure size 720x504 with 1 Axes>"
      ]
     },
     "metadata": {
      "needs_background": "light"
     },
     "output_type": "display_data"
    }
   ],
   "source": [
    "data['ranking_norm'][data['Rating'] < 4].hist(bins=100)"
   ]
  },
  {
   "cell_type": "markdown",
   "metadata": {},
   "source": [
    "### И один из моих любимых - [корреляция признаков](https://ru.wikipedia.org/wiki/Корреляция)\n",
    "На этом графике уже сейчас вы сможете заметить, как признаки связаны между собой и с целевой переменной."
   ]
  },
  {
   "cell_type": "code",
   "execution_count": 41,
   "metadata": {
    "execution": {
     "iopub.execute_input": "2021-08-04T15:27:00.192592Z",
     "iopub.status.busy": "2021-08-04T15:27:00.192087Z",
     "iopub.status.idle": "2021-08-04T15:27:05.066831Z",
     "shell.execute_reply": "2021-08-04T15:27:05.065709Z",
     "shell.execute_reply.started": "2021-08-04T15:27:00.192533Z"
    }
   },
   "outputs": [
    {
     "data": {
      "text/plain": [
       "<matplotlib.axes._subplots.AxesSubplot at 0x7f4b99de9ac8>"
      ]
     },
     "execution_count": 41,
     "metadata": {},
     "output_type": "execute_result"
    },
    {
     "data": {
      "image/png": "[encoded data removed]",
      "text/plain": [
       "<Figure size 1080x792 with 2 Axes>"
      ]
     },
     "metadata": {
      "needs_background": "light"
     },
     "output_type": "display_data"
    }
   ],
   "source": [
    "plt.rcParams['figure.figsize'] = (15,11)\n",
    "sns.heatmap(data.corr(), cmap='vlag')"
   ]
  },
  {
   "cell_type": "code",
   "execution_count": 42,
   "metadata": {
    "execution": {
     "iopub.execute_input": "2021-08-04T15:27:05.068767Z",
     "iopub.status.busy": "2021-08-04T15:27:05.068360Z",
     "iopub.status.idle": "2021-08-04T15:27:08.013368Z",
     "shell.execute_reply": "2021-08-04T15:27:08.012646Z",
     "shell.execute_reply.started": "2021-08-04T15:27:05.068707Z"
    }
   },
   "outputs": [
    {
     "data": {
      "text/html": [
       "<div>\n",
       "<style scoped>\n",
       "    .dataframe tbody tr th:only-of-type {\n",
       "        vertical-align: middle;\n",
       "    }\n",
       "\n",
       "    .dataframe tbody tr th {\n",
       "        vertical-align: top;\n",
       "    }\n",
       "\n",
       "    .dataframe thead th {\n",
       "        text-align: right;\n",
       "    }\n",
       "</style>\n",
       "<table border=\"1\" class=\"dataframe\">\n",
       "  <thead>\n",
       "    <tr style=\"text-align: right;\">\n",
       "      <th></th>\n",
       "      <th>Rating</th>\n",
       "    </tr>\n",
       "  </thead>\n",
       "  <tbody>\n",
       "    <tr>\n",
       "      <th>Rating</th>\n",
       "      <td>1.000000</td>\n",
       "    </tr>\n",
       "    <tr>\n",
       "      <th>sample</th>\n",
       "      <td>0.936543</td>\n",
       "    </tr>\n",
       "    <tr>\n",
       "      <th>chain</th>\n",
       "      <td>0.150831</td>\n",
       "    </tr>\n",
       "    <tr>\n",
       "      <th>review_mood</th>\n",
       "      <td>0.049481</td>\n",
       "    </tr>\n",
       "    <tr>\n",
       "      <th>vegetarian friendly</th>\n",
       "      <td>0.037317</td>\n",
       "    </tr>\n",
       "    <tr>\n",
       "      <th>...</th>\n",
       "      <td>...</td>\n",
       "    </tr>\n",
       "    <tr>\n",
       "      <th>Price_Range_isNAN</th>\n",
       "      <td>-0.020519</td>\n",
       "    </tr>\n",
       "    <tr>\n",
       "      <th>chinese</th>\n",
       "      <td>-0.020975</td>\n",
       "    </tr>\n",
       "    <tr>\n",
       "      <th>City_Milan</th>\n",
       "      <td>-0.023233</td>\n",
       "    </tr>\n",
       "    <tr>\n",
       "      <th>ranking_norm</th>\n",
       "      <td>-0.168728</td>\n",
       "    </tr>\n",
       "    <tr>\n",
       "      <th>City_nan</th>\n",
       "      <td>NaN</td>\n",
       "    </tr>\n",
       "  </tbody>\n",
       "</table>\n",
       "<p>169 rows × 1 columns</p>\n",
       "</div>"
      ],
      "text/plain": [
       "                       Rating\n",
       "Rating               1.000000\n",
       "sample               0.936543\n",
       "chain                0.150831\n",
       "review_mood          0.049481\n",
       "vegetarian friendly  0.037317\n",
       "...                       ...\n",
       "Price_Range_isNAN   -0.020519\n",
       "chinese             -0.020975\n",
       "City_Milan          -0.023233\n",
       "ranking_norm        -0.168728\n",
       "City_nan                  NaN\n",
       "\n",
       "[169 rows x 1 columns]"
      ]
     },
     "execution_count": 42,
     "metadata": {},
     "output_type": "execute_result"
    }
   ],
   "source": [
    "data.corr().Rating.sort_values(ascending=False).to_frame()"
   ]
  },
  {
   "cell_type": "markdown",
   "metadata": {},
   "source": [
    "# Data Preprocessing\n",
    "Теперь, для удобства и воспроизводимости кода, завернем всю обработку в одну большую функцию."
   ]
  },
  {
   "cell_type": "code",
   "execution_count": 43,
   "metadata": {
    "execution": {
     "iopub.execute_input": "2021-08-04T15:27:08.014908Z",
     "iopub.status.busy": "2021-08-04T15:27:08.014609Z",
     "iopub.status.idle": "2021-08-04T15:27:08.374414Z",
     "shell.execute_reply": "2021-08-04T15:27:08.373462Z",
     "shell.execute_reply.started": "2021-08-04T15:27:08.014855Z"
    }
   },
   "outputs": [
    {
     "name": "stdout",
     "output_type": "stream",
     "text": [
      "<class 'pandas.core.frame.DataFrame'>\n",
      "RangeIndex: 50000 entries, 0 to 49999\n",
      "Data columns (total 11 columns):\n",
      "Restaurant_id        50000 non-null object\n",
      "City                 50000 non-null object\n",
      "Cuisine Style        38410 non-null object\n",
      "Ranking              50000 non-null float64\n",
      "Price Range          32639 non-null object\n",
      "Number of Reviews    46800 non-null float64\n",
      "Reviews              49998 non-null object\n",
      "URL_TA               50000 non-null object\n",
      "ID_TA                50000 non-null object\n",
      "sample               50000 non-null int64\n",
      "Rating               50000 non-null float64\n",
      "dtypes: float64(3), int64(1), object(7)\n",
      "memory usage: 4.2+ MB\n"
     ]
    }
   ],
   "source": [
    "# на всякий случай, заново подгружаем данные\n",
    "df_train = pd.read_csv(DATA_DIR+'/main_task.csv')\n",
    "df_test = pd.read_csv(DATA_DIR+'/kaggle_task.csv')\n",
    "df_train['sample'] = 1 # помечаем где у нас трейн\n",
    "df_test['sample'] = 0 # помечаем где у нас тест\n",
    "df_test['Rating'] = 0 # в тесте у нас нет значения Rating, мы его должны предсказать, по этому пока просто заполняем нулями\n",
    "\n",
    "data = df_test.append(df_train, sort=False).reset_index(drop=True) # объединяем\n",
    "data.info()"
   ]
  },
  {
   "cell_type": "code",
   "execution_count": 44,
   "metadata": {
    "execution": {
     "iopub.execute_input": "2021-08-04T15:27:08.376084Z",
     "iopub.status.busy": "2021-08-04T15:27:08.375834Z",
     "iopub.status.idle": "2021-08-04T15:27:08.400956Z",
     "shell.execute_reply": "2021-08-04T15:27:08.399949Z",
     "shell.execute_reply.started": "2021-08-04T15:27:08.376041Z"
    }
   },
   "outputs": [],
   "source": [
    "def preproc_data(df_input):\n",
    "    '''includes several functions to pre-process the predictor data.'''\n",
    "    \n",
    "    df_output = df_input.copy()\n",
    "    \n",
    "    # ################### 1. Предобработка ############################################################## \n",
    "    # убираем не нужные для модели признаки\n",
    "    df_output.drop(['ID_TA'], axis = 1, inplace=True)\n",
    "    \n",
    "    \n",
    "    # ################### 2. NAN ############################################################## \n",
    "    # Далее заполняем пропуски, вы можете попробовать заполнением средним или средним по городу и тд...\n",
    "    df_output['Number_of_Reviews_isNAN'] = pd.isna(df_output['Number of Reviews']).astype('uint8')\n",
    "    df_output['Number of Reviews'].fillna(0, inplace=True)\n",
    "    df_output['Price_Range_isNAN'] = pd.isna(data['Price Range']).astype('uint8')\n",
    "    replace_price_range = {'Price Range': {\"$\": 1, \"$$ - $$$\": 2, \"$$$$\": 3, np.NaN: 2}}\n",
    "    df_output.replace(replace_price_range, inplace=True)\n",
    "    df_output['Cuisine_Style_isNAN'] = pd.isna(df_output['Cuisine Style']).astype('uint8')\n",
    "    df_output['Cuisine Style'] = df_output['Cuisine Style'].fillna(\"['Unknown']\")\n",
    "    \n",
    "    ### Немного Feature Engineering, потому что его надо делать раньше дамми переменных \n",
    "\n",
    "    per_city_dict = dict(df_output['City'].value_counts())\n",
    "    df_output['city_restaurants'] = df_output.City.map(per_city_dict)\n",
    "\n",
    "    df_output['ranking_norm'] = df_output.Ranking / df_output.city_restaurants\n",
    "    \n",
    "    good = ['good', 'great', 'nice', 'best', 'excellent', 'delicious', 'friendly',\n",
    "        'lovely', 'amazing', 'tasty', 'fantastic', 'perfect', 'wonderful',\n",
    "        'super', 'awesome', 'love', 'beautiful', 'superb', 'interesting',\n",
    "        'yummy', 'fine', 'favourite', 'surprise', 'loved', 'brilliant',\n",
    "        'favorite']\n",
    "\n",
    "    df_output['words'] = df_output.Reviews.str.findall(r\"(\\w+)\")\n",
    "    def mood(review):\n",
    "        ''' Подсчет положительных слов в отзывах на ресторан.\n",
    "        Возвращает количество положительных слов в отзывах. \n",
    "        '''\n",
    "        i = 0\n",
    "        for word in review:\n",
    "            for mood in good:\n",
    "                if mood == word.lower():\n",
    "                    i += 1\n",
    "        return i\n",
    "    df_output['review_mood'] = df_output.words.dropna().apply(mood)\n",
    "    df_output.review_mood.fillna(0, inplace=True)\n",
    "    # ################### 3. Encoding ############################################################## \n",
    "    df_output = pd.get_dummies(df_output, columns=[ 'City',], dummy_na=True)\n",
    "    def cuisine (df):\n",
    "        df['Cuisine Style'] = df['Cuisine Style'].str.lower()\n",
    "\n",
    "        cuisineStyle = set()\n",
    "        cuisines = df['Cuisine Style'].to_list()\n",
    "\n",
    "        for cuisine in cuisines:\n",
    "            cuisine = re.findall(r\"'([\\s\\S]+?)'\", cuisine)\n",
    "            for j in cuisine:\n",
    "                 cuisineStyle.add(j)\n",
    "    \n",
    "        for item in cuisineStyle:\n",
    "            df[item] = df['Cuisine Style'].apply(lambda x: 1 if item in x else 0)\n",
    "        return df\n",
    "    df_output = cuisine(df_output)\n",
    "    \n",
    "    \n",
    "    # ################### 4. Feature Engineering ####################################################\n",
    "    chain_lst = list(df_output.Restaurant_id.value_counts()[df_output.Restaurant_id.value_counts() > 1].index)\n",
    "    df_output['chain'] = df_output[data.Restaurant_id.isin(chain_lst)].Restaurant_id.apply(lambda x: 1)\n",
    "    df_output['chain'].fillna(0, inplace=True)\n",
    "    df_output['chain'] = df_output['chain'].astype(int)\n",
    "    \n",
    "    # ################### 5. Clean #################################################### \n",
    "    # убираем признаки которые еще не успели обработать\n",
    "    object_columns = [s for s in df_output.columns if df_output[s].dtypes == 'object']\n",
    "    df_output.drop(object_columns, axis = 1, inplace=True)\n",
    "    \n",
    "    return df_output"
   ]
  },
  {
   "cell_type": "markdown",
   "metadata": {},
   "source": [
    ">По хорошему, можно было бы перевести эту большую функцию в класс и разбить на подфункции (согласно ООП). "
   ]
  },
  {
   "cell_type": "markdown",
   "metadata": {},
   "source": [
    "#### Запускаем и проверяем что получилось"
   ]
  },
  {
   "cell_type": "code",
   "execution_count": 45,
   "metadata": {
    "execution": {
     "iopub.execute_input": "2021-08-04T15:27:08.403216Z",
     "iopub.status.busy": "2021-08-04T15:27:08.402828Z",
     "iopub.status.idle": "2021-08-04T15:27:15.272590Z",
     "shell.execute_reply": "2021-08-04T15:27:15.271601Z",
     "shell.execute_reply.started": "2021-08-04T15:27:08.403150Z"
    }
   },
   "outputs": [
    {
     "data": {
      "text/html": [
       "<div>\n",
       "<style scoped>\n",
       "    .dataframe tbody tr th:only-of-type {\n",
       "        vertical-align: middle;\n",
       "    }\n",
       "\n",
       "    .dataframe tbody tr th {\n",
       "        vertical-align: top;\n",
       "    }\n",
       "\n",
       "    .dataframe thead th {\n",
       "        text-align: right;\n",
       "    }\n",
       "</style>\n",
       "<table border=\"1\" class=\"dataframe\">\n",
       "  <thead>\n",
       "    <tr style=\"text-align: right;\">\n",
       "      <th></th>\n",
       "      <th>Ranking</th>\n",
       "      <th>Price Range</th>\n",
       "      <th>Number of Reviews</th>\n",
       "      <th>sample</th>\n",
       "      <th>Rating</th>\n",
       "      <th>Number_of_Reviews_isNAN</th>\n",
       "      <th>Price_Range_isNAN</th>\n",
       "      <th>Cuisine_Style_isNAN</th>\n",
       "      <th>city_restaurants</th>\n",
       "      <th>ranking_norm</th>\n",
       "      <th>...</th>\n",
       "      <th>pizza</th>\n",
       "      <th>egyptian</th>\n",
       "      <th>indonesian</th>\n",
       "      <th>xinjiang</th>\n",
       "      <th>norwegian</th>\n",
       "      <th>german</th>\n",
       "      <th>bangladeshi</th>\n",
       "      <th>nepali</th>\n",
       "      <th>cuban</th>\n",
       "      <th>chain</th>\n",
       "    </tr>\n",
       "  </thead>\n",
       "  <tbody>\n",
       "    <tr>\n",
       "      <th>30068</th>\n",
       "      <td>2443.0</td>\n",
       "      <td>2</td>\n",
       "      <td>221.0</td>\n",
       "      <td>1</td>\n",
       "      <td>4.0</td>\n",
       "      <td>0</td>\n",
       "      <td>0</td>\n",
       "      <td>0</td>\n",
       "      <td>7193</td>\n",
       "      <td>0.339636</td>\n",
       "      <td>...</td>\n",
       "      <td>0</td>\n",
       "      <td>0</td>\n",
       "      <td>0</td>\n",
       "      <td>0</td>\n",
       "      <td>0</td>\n",
       "      <td>0</td>\n",
       "      <td>0</td>\n",
       "      <td>0</td>\n",
       "      <td>0</td>\n",
       "      <td>1</td>\n",
       "    </tr>\n",
       "    <tr>\n",
       "      <th>1747</th>\n",
       "      <td>3095.0</td>\n",
       "      <td>2</td>\n",
       "      <td>6.0</td>\n",
       "      <td>0</td>\n",
       "      <td>0.0</td>\n",
       "      <td>0</td>\n",
       "      <td>1</td>\n",
       "      <td>1</td>\n",
       "      <td>2705</td>\n",
       "      <td>1.144177</td>\n",
       "      <td>...</td>\n",
       "      <td>0</td>\n",
       "      <td>0</td>\n",
       "      <td>0</td>\n",
       "      <td>0</td>\n",
       "      <td>0</td>\n",
       "      <td>0</td>\n",
       "      <td>0</td>\n",
       "      <td>0</td>\n",
       "      <td>0</td>\n",
       "      <td>1</td>\n",
       "    </tr>\n",
       "    <tr>\n",
       "      <th>29721</th>\n",
       "      <td>1724.0</td>\n",
       "      <td>2</td>\n",
       "      <td>357.0</td>\n",
       "      <td>1</td>\n",
       "      <td>3.5</td>\n",
       "      <td>0</td>\n",
       "      <td>0</td>\n",
       "      <td>0</td>\n",
       "      <td>3813</td>\n",
       "      <td>0.452137</td>\n",
       "      <td>...</td>\n",
       "      <td>0</td>\n",
       "      <td>0</td>\n",
       "      <td>0</td>\n",
       "      <td>0</td>\n",
       "      <td>0</td>\n",
       "      <td>0</td>\n",
       "      <td>0</td>\n",
       "      <td>0</td>\n",
       "      <td>0</td>\n",
       "      <td>1</td>\n",
       "    </tr>\n",
       "    <tr>\n",
       "      <th>46444</th>\n",
       "      <td>15009.0</td>\n",
       "      <td>2</td>\n",
       "      <td>9.0</td>\n",
       "      <td>1</td>\n",
       "      <td>3.0</td>\n",
       "      <td>0</td>\n",
       "      <td>1</td>\n",
       "      <td>1</td>\n",
       "      <td>7193</td>\n",
       "      <td>2.086612</td>\n",
       "      <td>...</td>\n",
       "      <td>0</td>\n",
       "      <td>0</td>\n",
       "      <td>0</td>\n",
       "      <td>0</td>\n",
       "      <td>0</td>\n",
       "      <td>0</td>\n",
       "      <td>0</td>\n",
       "      <td>0</td>\n",
       "      <td>0</td>\n",
       "      <td>0</td>\n",
       "    </tr>\n",
       "    <tr>\n",
       "      <th>2149</th>\n",
       "      <td>748.0</td>\n",
       "      <td>2</td>\n",
       "      <td>132.0</td>\n",
       "      <td>0</td>\n",
       "      <td>0.0</td>\n",
       "      <td>0</td>\n",
       "      <td>0</td>\n",
       "      <td>0</td>\n",
       "      <td>1647</td>\n",
       "      <td>0.454159</td>\n",
       "      <td>...</td>\n",
       "      <td>0</td>\n",
       "      <td>0</td>\n",
       "      <td>0</td>\n",
       "      <td>0</td>\n",
       "      <td>0</td>\n",
       "      <td>0</td>\n",
       "      <td>0</td>\n",
       "      <td>0</td>\n",
       "      <td>0</td>\n",
       "      <td>1</td>\n",
       "    </tr>\n",
       "    <tr>\n",
       "      <th>44702</th>\n",
       "      <td>2560.0</td>\n",
       "      <td>2</td>\n",
       "      <td>0.0</td>\n",
       "      <td>1</td>\n",
       "      <td>3.0</td>\n",
       "      <td>1</td>\n",
       "      <td>1</td>\n",
       "      <td>1</td>\n",
       "      <td>1145</td>\n",
       "      <td>2.235808</td>\n",
       "      <td>...</td>\n",
       "      <td>0</td>\n",
       "      <td>0</td>\n",
       "      <td>0</td>\n",
       "      <td>0</td>\n",
       "      <td>0</td>\n",
       "      <td>0</td>\n",
       "      <td>0</td>\n",
       "      <td>0</td>\n",
       "      <td>0</td>\n",
       "      <td>1</td>\n",
       "    </tr>\n",
       "    <tr>\n",
       "      <th>37084</th>\n",
       "      <td>2566.0</td>\n",
       "      <td>2</td>\n",
       "      <td>223.0</td>\n",
       "      <td>1</td>\n",
       "      <td>4.0</td>\n",
       "      <td>0</td>\n",
       "      <td>0</td>\n",
       "      <td>0</td>\n",
       "      <td>6108</td>\n",
       "      <td>0.420105</td>\n",
       "      <td>...</td>\n",
       "      <td>1</td>\n",
       "      <td>0</td>\n",
       "      <td>0</td>\n",
       "      <td>0</td>\n",
       "      <td>0</td>\n",
       "      <td>0</td>\n",
       "      <td>0</td>\n",
       "      <td>0</td>\n",
       "      <td>0</td>\n",
       "      <td>1</td>\n",
       "    </tr>\n",
       "    <tr>\n",
       "      <th>19088</th>\n",
       "      <td>7382.0</td>\n",
       "      <td>2</td>\n",
       "      <td>54.0</td>\n",
       "      <td>1</td>\n",
       "      <td>3.5</td>\n",
       "      <td>0</td>\n",
       "      <td>0</td>\n",
       "      <td>0</td>\n",
       "      <td>7193</td>\n",
       "      <td>1.026276</td>\n",
       "      <td>...</td>\n",
       "      <td>0</td>\n",
       "      <td>0</td>\n",
       "      <td>0</td>\n",
       "      <td>0</td>\n",
       "      <td>0</td>\n",
       "      <td>0</td>\n",
       "      <td>0</td>\n",
       "      <td>0</td>\n",
       "      <td>0</td>\n",
       "      <td>1</td>\n",
       "    </tr>\n",
       "    <tr>\n",
       "      <th>35907</th>\n",
       "      <td>5287.0</td>\n",
       "      <td>2</td>\n",
       "      <td>7.0</td>\n",
       "      <td>1</td>\n",
       "      <td>4.5</td>\n",
       "      <td>0</td>\n",
       "      <td>1</td>\n",
       "      <td>0</td>\n",
       "      <td>3813</td>\n",
       "      <td>1.386572</td>\n",
       "      <td>...</td>\n",
       "      <td>0</td>\n",
       "      <td>0</td>\n",
       "      <td>0</td>\n",
       "      <td>0</td>\n",
       "      <td>0</td>\n",
       "      <td>0</td>\n",
       "      <td>0</td>\n",
       "      <td>0</td>\n",
       "      <td>0</td>\n",
       "      <td>1</td>\n",
       "    </tr>\n",
       "    <tr>\n",
       "      <th>39889</th>\n",
       "      <td>153.0</td>\n",
       "      <td>2</td>\n",
       "      <td>809.0</td>\n",
       "      <td>1</td>\n",
       "      <td>4.0</td>\n",
       "      <td>0</td>\n",
       "      <td>0</td>\n",
       "      <td>0</td>\n",
       "      <td>1372</td>\n",
       "      <td>0.111516</td>\n",
       "      <td>...</td>\n",
       "      <td>0</td>\n",
       "      <td>0</td>\n",
       "      <td>0</td>\n",
       "      <td>0</td>\n",
       "      <td>0</td>\n",
       "      <td>0</td>\n",
       "      <td>0</td>\n",
       "      <td>0</td>\n",
       "      <td>0</td>\n",
       "      <td>1</td>\n",
       "    </tr>\n",
       "  </tbody>\n",
       "</table>\n",
       "<p>10 rows × 170 columns</p>\n",
       "</div>"
      ],
      "text/plain": [
       "       Ranking  Price Range  Number of Reviews  sample  Rating  \\\n",
       "30068   2443.0            2              221.0       1     4.0   \n",
       "1747    3095.0            2                6.0       0     0.0   \n",
       "29721   1724.0            2              357.0       1     3.5   \n",
       "46444  15009.0            2                9.0       1     3.0   \n",
       "2149     748.0            2              132.0       0     0.0   \n",
       "44702   2560.0            2                0.0       1     3.0   \n",
       "37084   2566.0            2              223.0       1     4.0   \n",
       "19088   7382.0            2               54.0       1     3.5   \n",
       "35907   5287.0            2                7.0       1     4.5   \n",
       "39889    153.0            2              809.0       1     4.0   \n",
       "\n",
       "       Number_of_Reviews_isNAN  Price_Range_isNAN  Cuisine_Style_isNAN  \\\n",
       "30068                        0                  0                    0   \n",
       "1747                         0                  1                    1   \n",
       "29721                        0                  0                    0   \n",
       "46444                        0                  1                    1   \n",
       "2149                         0                  0                    0   \n",
       "44702                        1                  1                    1   \n",
       "37084                        0                  0                    0   \n",
       "19088                        0                  0                    0   \n",
       "35907                        0                  1                    0   \n",
       "39889                        0                  0                    0   \n",
       "\n",
       "       city_restaurants  ranking_norm  ...  pizza  egyptian  indonesian  \\\n",
       "30068              7193      0.339636  ...      0         0           0   \n",
       "1747               2705      1.144177  ...      0         0           0   \n",
       "29721              3813      0.452137  ...      0         0           0   \n",
       "46444              7193      2.086612  ...      0         0           0   \n",
       "2149               1647      0.454159  ...      0         0           0   \n",
       "44702              1145      2.235808  ...      0         0           0   \n",
       "37084              6108      0.420105  ...      1         0           0   \n",
       "19088              7193      1.026276  ...      0         0           0   \n",
       "35907              3813      1.386572  ...      0         0           0   \n",
       "39889              1372      0.111516  ...      0         0           0   \n",
       "\n",
       "       xinjiang  norwegian  german  bangladeshi  nepali  cuban  chain  \n",
       "30068         0          0       0            0       0      0      1  \n",
       "1747          0          0       0            0       0      0      1  \n",
       "29721         0          0       0            0       0      0      1  \n",
       "46444         0          0       0            0       0      0      0  \n",
       "2149          0          0       0            0       0      0      1  \n",
       "44702         0          0       0            0       0      0      1  \n",
       "37084         0          0       0            0       0      0      1  \n",
       "19088         0          0       0            0       0      0      1  \n",
       "35907         0          0       0            0       0      0      1  \n",
       "39889         0          0       0            0       0      0      1  \n",
       "\n",
       "[10 rows x 170 columns]"
      ]
     },
     "execution_count": 45,
     "metadata": {},
     "output_type": "execute_result"
    }
   ],
   "source": [
    "df_preproc = preproc_data(data)\n",
    "df_preproc.sample(10)"
   ]
  },
  {
   "cell_type": "code",
   "execution_count": 46,
   "metadata": {
    "execution": {
     "iopub.execute_input": "2021-08-04T15:27:15.274766Z",
     "iopub.status.busy": "2021-08-04T15:27:15.274377Z",
     "iopub.status.idle": "2021-08-04T15:27:15.296503Z",
     "shell.execute_reply": "2021-08-04T15:27:15.295431Z",
     "shell.execute_reply.started": "2021-08-04T15:27:15.274699Z"
    }
   },
   "outputs": [
    {
     "name": "stdout",
     "output_type": "stream",
     "text": [
      "<class 'pandas.core.frame.DataFrame'>\n",
      "RangeIndex: 50000 entries, 0 to 49999\n",
      "Columns: 170 entries, Ranking to chain\n",
      "dtypes: float64(5), int64(130), uint8(35)\n",
      "memory usage: 53.2 MB\n"
     ]
    }
   ],
   "source": [
    "df_preproc.info()"
   ]
  },
  {
   "cell_type": "code",
   "execution_count": 47,
   "metadata": {
    "execution": {
     "iopub.execute_input": "2021-08-04T15:27:15.298659Z",
     "iopub.status.busy": "2021-08-04T15:27:15.298318Z",
     "iopub.status.idle": "2021-08-04T15:27:15.386702Z",
     "shell.execute_reply": "2021-08-04T15:27:15.385504Z",
     "shell.execute_reply.started": "2021-08-04T15:27:15.298595Z"
    }
   },
   "outputs": [],
   "source": [
    "# Теперь выделим тестовую часть\n",
    "train_data = df_preproc.query('sample == 1').drop(['sample'], axis=1)\n",
    "test_data = df_preproc.query('sample == 0').drop(['sample'], axis=1)\n",
    "\n",
    "y = train_data.Rating.values            # наш таргет\n",
    "X = train_data.drop(['Rating'], axis=1)"
   ]
  },
  {
   "cell_type": "markdown",
   "metadata": {},
   "source": [
    "**Перед тем как отправлять наши данные на обучение, разделим данные на еще один тест и трейн, для валидации. \n",
    "Это поможет нам проверить, как хорошо наша модель работает, до отправки submissiona на kaggle.**"
   ]
  },
  {
   "cell_type": "code",
   "execution_count": 48,
   "metadata": {
    "execution": {
     "iopub.execute_input": "2021-08-04T15:27:15.388485Z",
     "iopub.status.busy": "2021-08-04T15:27:15.388187Z",
     "iopub.status.idle": "2021-08-04T15:27:15.442644Z",
     "shell.execute_reply": "2021-08-04T15:27:15.441405Z",
     "shell.execute_reply.started": "2021-08-04T15:27:15.388432Z"
    }
   },
   "outputs": [],
   "source": [
    "# Воспользуемся специальной функцие train_test_split для разбивки тестовых данных\n",
    "# выделим 20% данных на валидацию (параметр test_size)\n",
    "X_train, X_test, y_train, y_test = train_test_split(X, y, test_size=0.2, random_state=RANDOM_SEED)"
   ]
  },
  {
   "cell_type": "code",
   "execution_count": 49,
   "metadata": {
    "execution": {
     "iopub.execute_input": "2021-08-04T15:27:15.444536Z",
     "iopub.status.busy": "2021-08-04T15:27:15.444233Z",
     "iopub.status.idle": "2021-08-04T15:27:15.451637Z",
     "shell.execute_reply": "2021-08-04T15:27:15.450848Z",
     "shell.execute_reply.started": "2021-08-04T15:27:15.444468Z"
    }
   },
   "outputs": [
    {
     "data": {
      "text/plain": [
       "((10000, 169), (40000, 169), (40000, 168), (32000, 168), (8000, 168))"
      ]
     },
     "execution_count": 49,
     "metadata": {},
     "output_type": "execute_result"
    }
   ],
   "source": [
    "# проверяем\n",
    "test_data.shape, train_data.shape, X.shape, X_train.shape, X_test.shape"
   ]
  },
  {
   "cell_type": "markdown",
   "metadata": {},
   "source": [
    "# Model \n",
    "Сам ML"
   ]
  },
  {
   "cell_type": "code",
   "execution_count": 50,
   "metadata": {
    "execution": {
     "iopub.execute_input": "2021-08-04T15:27:15.452806Z",
     "iopub.status.busy": "2021-08-04T15:27:15.452574Z",
     "iopub.status.idle": "2021-08-04T15:27:15.510029Z",
     "shell.execute_reply": "2021-08-04T15:27:15.509164Z",
     "shell.execute_reply.started": "2021-08-04T15:27:15.452769Z"
    }
   },
   "outputs": [],
   "source": [
    "# Импортируем необходимые библиотеки:\n",
    "from sklearn.ensemble import RandomForestRegressor # инструмент для создания и обучения модели\n",
    "from sklearn import metrics # инструменты для оценки точности модели"
   ]
  },
  {
   "cell_type": "code",
   "execution_count": 51,
   "metadata": {
    "execution": {
     "iopub.execute_input": "2021-08-04T15:27:15.511692Z",
     "iopub.status.busy": "2021-08-04T15:27:15.511373Z",
     "iopub.status.idle": "2021-08-04T15:27:15.516027Z",
     "shell.execute_reply": "2021-08-04T15:27:15.515101Z",
     "shell.execute_reply.started": "2021-08-04T15:27:15.511629Z"
    }
   },
   "outputs": [],
   "source": [
    "# Создаём модель (НАСТРОЙКИ НЕ ТРОГАЕМ)\n",
    "model = RandomForestRegressor(n_estimators=100, verbose=1, n_jobs=-1, random_state=RANDOM_SEED)"
   ]
  },
  {
   "cell_type": "code",
   "execution_count": 52,
   "metadata": {
    "execution": {
     "iopub.execute_input": "2021-08-04T15:27:15.517201Z",
     "iopub.status.busy": "2021-08-04T15:27:15.516977Z",
     "iopub.status.idle": "2021-08-04T15:27:32.675708Z",
     "shell.execute_reply": "2021-08-04T15:27:32.674504Z",
     "shell.execute_reply.started": "2021-08-04T15:27:15.517168Z"
    }
   },
   "outputs": [
    {
     "name": "stderr",
     "output_type": "stream",
     "text": [
      "[Parallel(n_jobs=-1)]: Using backend ThreadingBackend with 4 concurrent workers.\n",
      "[Parallel(n_jobs=-1)]: Done  42 tasks      | elapsed:    7.8s\n",
      "[Parallel(n_jobs=-1)]: Done 100 out of 100 | elapsed:   17.3s finished\n",
      "[Parallel(n_jobs=4)]: Using backend ThreadingBackend with 4 concurrent workers.\n",
      "[Parallel(n_jobs=4)]: Done  42 tasks      | elapsed:    0.0s\n",
      "[Parallel(n_jobs=4)]: Done 100 out of 100 | elapsed:    0.1s finished\n"
     ]
    }
   ],
   "source": [
    "# Обучаем модель на тестовом наборе данных\n",
    "model.fit(X_train, y_train)\n",
    "\n",
    "# Используем обученную модель для предсказания рейтинга ресторанов в тестовой выборке.\n",
    "# Предсказанные значения записываем в переменную y_pred\n",
    "y_pred = model.predict(X_test)"
   ]
  },
  {
   "cell_type": "code",
   "execution_count": 53,
   "metadata": {
    "execution": {
     "iopub.execute_input": "2021-08-04T15:27:32.678700Z",
     "iopub.status.busy": "2021-08-04T15:27:32.678406Z",
     "iopub.status.idle": "2021-08-04T15:27:32.684138Z",
     "shell.execute_reply": "2021-08-04T15:27:32.683188Z",
     "shell.execute_reply.started": "2021-08-04T15:27:32.678651Z"
    }
   },
   "outputs": [
    {
     "name": "stdout",
     "output_type": "stream",
     "text": [
      "MAE: 0.20544874999999999\n"
     ]
    }
   ],
   "source": [
    "# Сравниваем предсказанные значения (y_pred) с реальными (y_test), и смотрим насколько они в среднем отличаются\n",
    "# Метрика называется Mean Absolute Error (MAE) и показывает среднее отклонение предсказанных значений от фактических.\n",
    "print('MAE:', metrics.mean_absolute_error(y_test, y_pred))"
   ]
  },
  {
   "cell_type": "code",
   "execution_count": 54,
   "metadata": {
    "execution": {
     "iopub.execute_input": "2021-08-04T15:27:32.686371Z",
     "iopub.status.busy": "2021-08-04T15:27:32.685745Z",
     "iopub.status.idle": "2021-08-04T15:27:33.096797Z",
     "shell.execute_reply": "2021-08-04T15:27:33.095799Z",
     "shell.execute_reply.started": "2021-08-04T15:27:32.686313Z"
    }
   },
   "outputs": [
    {
     "data": {
      "text/plain": [
       "<matplotlib.axes._subplots.AxesSubplot at 0x7f4b9b2567b8>"
      ]
     },
     "execution_count": 54,
     "metadata": {},
     "output_type": "execute_result"
    },
    {
     "data": {
      "image/png": "[encoded data removed]",
      "text/plain": [
       "<Figure size 720x720 with 1 Axes>"
      ]
     },
     "metadata": {
      "needs_background": "light"
     },
     "output_type": "display_data"
    }
   ],
   "source": [
    "# в RandomForestRegressor есть возможность вывести самые важные признаки для модели\n",
    "plt.rcParams['figure.figsize'] = (10,10)\n",
    "feat_importances = pd.Series(model.feature_importances_, index=X.columns)\n",
    "feat_importances.nlargest(15).plot(kind='barh')"
   ]
  },
  {
   "cell_type": "markdown",
   "metadata": {},
   "source": [
    "# Submission\n",
    "Если все устраевает - готовим Submission на кагл"
   ]
  },
  {
   "cell_type": "code",
   "execution_count": 55,
   "metadata": {
    "execution": {
     "iopub.execute_input": "2021-08-04T15:27:33.098701Z",
     "iopub.status.busy": "2021-08-04T15:27:33.098324Z",
     "iopub.status.idle": "2021-08-04T15:27:33.135204Z",
     "shell.execute_reply": "2021-08-04T15:27:33.133903Z",
     "shell.execute_reply.started": "2021-08-04T15:27:33.098633Z"
    }
   },
   "outputs": [
    {
     "data": {
      "text/html": [
       "<div>\n",
       "<style scoped>\n",
       "    .dataframe tbody tr th:only-of-type {\n",
       "        vertical-align: middle;\n",
       "    }\n",
       "\n",
       "    .dataframe tbody tr th {\n",
       "        vertical-align: top;\n",
       "    }\n",
       "\n",
       "    .dataframe thead th {\n",
       "        text-align: right;\n",
       "    }\n",
       "</style>\n",
       "<table border=\"1\" class=\"dataframe\">\n",
       "  <thead>\n",
       "    <tr style=\"text-align: right;\">\n",
       "      <th></th>\n",
       "      <th>Ranking</th>\n",
       "      <th>Price Range</th>\n",
       "      <th>Number of Reviews</th>\n",
       "      <th>Rating</th>\n",
       "      <th>Number_of_Reviews_isNAN</th>\n",
       "      <th>Price_Range_isNAN</th>\n",
       "      <th>Cuisine_Style_isNAN</th>\n",
       "      <th>city_restaurants</th>\n",
       "      <th>ranking_norm</th>\n",
       "      <th>review_mood</th>\n",
       "      <th>...</th>\n",
       "      <th>pizza</th>\n",
       "      <th>egyptian</th>\n",
       "      <th>indonesian</th>\n",
       "      <th>xinjiang</th>\n",
       "      <th>norwegian</th>\n",
       "      <th>german</th>\n",
       "      <th>bangladeshi</th>\n",
       "      <th>nepali</th>\n",
       "      <th>cuban</th>\n",
       "      <th>chain</th>\n",
       "    </tr>\n",
       "  </thead>\n",
       "  <tbody>\n",
       "    <tr>\n",
       "      <th>7326</th>\n",
       "      <td>409.0</td>\n",
       "      <td>2</td>\n",
       "      <td>115.0</td>\n",
       "      <td>0.0</td>\n",
       "      <td>0</td>\n",
       "      <td>0</td>\n",
       "      <td>0</td>\n",
       "      <td>488</td>\n",
       "      <td>0.838115</td>\n",
       "      <td>2.0</td>\n",
       "      <td>...</td>\n",
       "      <td>0</td>\n",
       "      <td>0</td>\n",
       "      <td>0</td>\n",
       "      <td>0</td>\n",
       "      <td>0</td>\n",
       "      <td>0</td>\n",
       "      <td>0</td>\n",
       "      <td>0</td>\n",
       "      <td>0</td>\n",
       "      <td>0</td>\n",
       "    </tr>\n",
       "    <tr>\n",
       "      <th>1358</th>\n",
       "      <td>319.0</td>\n",
       "      <td>2</td>\n",
       "      <td>241.0</td>\n",
       "      <td>0.0</td>\n",
       "      <td>0</td>\n",
       "      <td>0</td>\n",
       "      <td>0</td>\n",
       "      <td>1021</td>\n",
       "      <td>0.312439</td>\n",
       "      <td>2.0</td>\n",
       "      <td>...</td>\n",
       "      <td>0</td>\n",
       "      <td>0</td>\n",
       "      <td>0</td>\n",
       "      <td>0</td>\n",
       "      <td>0</td>\n",
       "      <td>0</td>\n",
       "      <td>0</td>\n",
       "      <td>0</td>\n",
       "      <td>0</td>\n",
       "      <td>1</td>\n",
       "    </tr>\n",
       "    <tr>\n",
       "      <th>1030</th>\n",
       "      <td>729.0</td>\n",
       "      <td>2</td>\n",
       "      <td>35.0</td>\n",
       "      <td>0.0</td>\n",
       "      <td>0</td>\n",
       "      <td>0</td>\n",
       "      <td>0</td>\n",
       "      <td>819</td>\n",
       "      <td>0.890110</td>\n",
       "      <td>1.0</td>\n",
       "      <td>...</td>\n",
       "      <td>0</td>\n",
       "      <td>0</td>\n",
       "      <td>0</td>\n",
       "      <td>0</td>\n",
       "      <td>0</td>\n",
       "      <td>0</td>\n",
       "      <td>0</td>\n",
       "      <td>0</td>\n",
       "      <td>0</td>\n",
       "      <td>1</td>\n",
       "    </tr>\n",
       "    <tr>\n",
       "      <th>6339</th>\n",
       "      <td>24.0</td>\n",
       "      <td>2</td>\n",
       "      <td>535.0</td>\n",
       "      <td>0.0</td>\n",
       "      <td>0</td>\n",
       "      <td>0</td>\n",
       "      <td>0</td>\n",
       "      <td>3395</td>\n",
       "      <td>0.007069</td>\n",
       "      <td>2.0</td>\n",
       "      <td>...</td>\n",
       "      <td>0</td>\n",
       "      <td>0</td>\n",
       "      <td>0</td>\n",
       "      <td>0</td>\n",
       "      <td>0</td>\n",
       "      <td>0</td>\n",
       "      <td>0</td>\n",
       "      <td>0</td>\n",
       "      <td>0</td>\n",
       "      <td>1</td>\n",
       "    </tr>\n",
       "    <tr>\n",
       "      <th>218</th>\n",
       "      <td>1027.0</td>\n",
       "      <td>2</td>\n",
       "      <td>485.0</td>\n",
       "      <td>0.0</td>\n",
       "      <td>0</td>\n",
       "      <td>0</td>\n",
       "      <td>0</td>\n",
       "      <td>2589</td>\n",
       "      <td>0.396678</td>\n",
       "      <td>2.0</td>\n",
       "      <td>...</td>\n",
       "      <td>0</td>\n",
       "      <td>0</td>\n",
       "      <td>0</td>\n",
       "      <td>0</td>\n",
       "      <td>0</td>\n",
       "      <td>0</td>\n",
       "      <td>0</td>\n",
       "      <td>0</td>\n",
       "      <td>0</td>\n",
       "      <td>1</td>\n",
       "    </tr>\n",
       "    <tr>\n",
       "      <th>2077</th>\n",
       "      <td>835.0</td>\n",
       "      <td>2</td>\n",
       "      <td>68.0</td>\n",
       "      <td>0.0</td>\n",
       "      <td>0</td>\n",
       "      <td>0</td>\n",
       "      <td>0</td>\n",
       "      <td>1126</td>\n",
       "      <td>0.741563</td>\n",
       "      <td>1.0</td>\n",
       "      <td>...</td>\n",
       "      <td>0</td>\n",
       "      <td>0</td>\n",
       "      <td>0</td>\n",
       "      <td>0</td>\n",
       "      <td>0</td>\n",
       "      <td>0</td>\n",
       "      <td>0</td>\n",
       "      <td>0</td>\n",
       "      <td>0</td>\n",
       "      <td>1</td>\n",
       "    </tr>\n",
       "    <tr>\n",
       "      <th>1210</th>\n",
       "      <td>11485.0</td>\n",
       "      <td>2</td>\n",
       "      <td>3.0</td>\n",
       "      <td>0.0</td>\n",
       "      <td>0</td>\n",
       "      <td>1</td>\n",
       "      <td>1</td>\n",
       "      <td>7193</td>\n",
       "      <td>1.596691</td>\n",
       "      <td>2.0</td>\n",
       "      <td>...</td>\n",
       "      <td>0</td>\n",
       "      <td>0</td>\n",
       "      <td>0</td>\n",
       "      <td>0</td>\n",
       "      <td>0</td>\n",
       "      <td>0</td>\n",
       "      <td>0</td>\n",
       "      <td>0</td>\n",
       "      <td>0</td>\n",
       "      <td>1</td>\n",
       "    </tr>\n",
       "    <tr>\n",
       "      <th>3628</th>\n",
       "      <td>2258.0</td>\n",
       "      <td>2</td>\n",
       "      <td>6.0</td>\n",
       "      <td>0.0</td>\n",
       "      <td>0</td>\n",
       "      <td>1</td>\n",
       "      <td>0</td>\n",
       "      <td>1126</td>\n",
       "      <td>2.005329</td>\n",
       "      <td>0.0</td>\n",
       "      <td>...</td>\n",
       "      <td>0</td>\n",
       "      <td>0</td>\n",
       "      <td>0</td>\n",
       "      <td>0</td>\n",
       "      <td>0</td>\n",
       "      <td>0</td>\n",
       "      <td>0</td>\n",
       "      <td>0</td>\n",
       "      <td>0</td>\n",
       "      <td>1</td>\n",
       "    </tr>\n",
       "    <tr>\n",
       "      <th>1733</th>\n",
       "      <td>7973.0</td>\n",
       "      <td>2</td>\n",
       "      <td>78.0</td>\n",
       "      <td>0.0</td>\n",
       "      <td>0</td>\n",
       "      <td>0</td>\n",
       "      <td>0</td>\n",
       "      <td>3813</td>\n",
       "      <td>2.091004</td>\n",
       "      <td>1.0</td>\n",
       "      <td>...</td>\n",
       "      <td>0</td>\n",
       "      <td>0</td>\n",
       "      <td>0</td>\n",
       "      <td>0</td>\n",
       "      <td>0</td>\n",
       "      <td>0</td>\n",
       "      <td>0</td>\n",
       "      <td>0</td>\n",
       "      <td>0</td>\n",
       "      <td>1</td>\n",
       "    </tr>\n",
       "    <tr>\n",
       "      <th>3775</th>\n",
       "      <td>16207.0</td>\n",
       "      <td>3</td>\n",
       "      <td>3.0</td>\n",
       "      <td>0.0</td>\n",
       "      <td>0</td>\n",
       "      <td>0</td>\n",
       "      <td>0</td>\n",
       "      <td>7193</td>\n",
       "      <td>2.253163</td>\n",
       "      <td>2.0</td>\n",
       "      <td>...</td>\n",
       "      <td>0</td>\n",
       "      <td>0</td>\n",
       "      <td>0</td>\n",
       "      <td>0</td>\n",
       "      <td>0</td>\n",
       "      <td>0</td>\n",
       "      <td>0</td>\n",
       "      <td>0</td>\n",
       "      <td>0</td>\n",
       "      <td>1</td>\n",
       "    </tr>\n",
       "  </tbody>\n",
       "</table>\n",
       "<p>10 rows × 169 columns</p>\n",
       "</div>"
      ],
      "text/plain": [
       "      Ranking  Price Range  Number of Reviews  Rating  \\\n",
       "7326    409.0            2              115.0     0.0   \n",
       "1358    319.0            2              241.0     0.0   \n",
       "1030    729.0            2               35.0     0.0   \n",
       "6339     24.0            2              535.0     0.0   \n",
       "218    1027.0            2              485.0     0.0   \n",
       "2077    835.0            2               68.0     0.0   \n",
       "1210  11485.0            2                3.0     0.0   \n",
       "3628   2258.0            2                6.0     0.0   \n",
       "1733   7973.0            2               78.0     0.0   \n",
       "3775  16207.0            3                3.0     0.0   \n",
       "\n",
       "      Number_of_Reviews_isNAN  Price_Range_isNAN  Cuisine_Style_isNAN  \\\n",
       "7326                        0                  0                    0   \n",
       "1358                        0                  0                    0   \n",
       "1030                        0                  0                    0   \n",
       "6339                        0                  0                    0   \n",
       "218                         0                  0                    0   \n",
       "2077                        0                  0                    0   \n",
       "1210                        0                  1                    1   \n",
       "3628                        0                  1                    0   \n",
       "1733                        0                  0                    0   \n",
       "3775                        0                  0                    0   \n",
       "\n",
       "      city_restaurants  ranking_norm  review_mood  ...  pizza  egyptian  \\\n",
       "7326               488      0.838115          2.0  ...      0         0   \n",
       "1358              1021      0.312439          2.0  ...      0         0   \n",
       "1030               819      0.890110          1.0  ...      0         0   \n",
       "6339              3395      0.007069          2.0  ...      0         0   \n",
       "218               2589      0.396678          2.0  ...      0         0   \n",
       "2077              1126      0.741563          1.0  ...      0         0   \n",
       "1210              7193      1.596691          2.0  ...      0         0   \n",
       "3628              1126      2.005329          0.0  ...      0         0   \n",
       "1733              3813      2.091004          1.0  ...      0         0   \n",
       "3775              7193      2.253163          2.0  ...      0         0   \n",
       "\n",
       "      indonesian  xinjiang  norwegian  german  bangladeshi  nepali  cuban  \\\n",
       "7326           0         0          0       0            0       0      0   \n",
       "1358           0         0          0       0            0       0      0   \n",
       "1030           0         0          0       0            0       0      0   \n",
       "6339           0         0          0       0            0       0      0   \n",
       "218            0         0          0       0            0       0      0   \n",
       "2077           0         0          0       0            0       0      0   \n",
       "1210           0         0          0       0            0       0      0   \n",
       "3628           0         0          0       0            0       0      0   \n",
       "1733           0         0          0       0            0       0      0   \n",
       "3775           0         0          0       0            0       0      0   \n",
       "\n",
       "      chain  \n",
       "7326      0  \n",
       "1358      1  \n",
       "1030      1  \n",
       "6339      1  \n",
       "218       1  \n",
       "2077      1  \n",
       "1210      1  \n",
       "3628      1  \n",
       "1733      1  \n",
       "3775      1  \n",
       "\n",
       "[10 rows x 169 columns]"
      ]
     },
     "execution_count": 55,
     "metadata": {},
     "output_type": "execute_result"
    }
   ],
   "source": [
    "test_data.sample(10)"
   ]
  },
  {
   "cell_type": "code",
   "execution_count": 56,
   "metadata": {
    "execution": {
     "iopub.execute_input": "2021-08-04T15:27:33.137663Z",
     "iopub.status.busy": "2021-08-04T15:27:33.137105Z",
     "iopub.status.idle": "2021-08-04T15:27:33.148607Z",
     "shell.execute_reply": "2021-08-04T15:27:33.147445Z",
     "shell.execute_reply.started": "2021-08-04T15:27:33.137431Z"
    }
   },
   "outputs": [],
   "source": [
    "test_data = test_data.drop(['Rating'], axis=1)"
   ]
  },
  {
   "cell_type": "code",
   "execution_count": 57,
   "metadata": {
    "execution": {
     "iopub.execute_input": "2021-08-04T15:27:33.151001Z",
     "iopub.status.busy": "2021-08-04T15:27:33.150394Z",
     "iopub.status.idle": "2021-08-04T15:27:33.169403Z",
     "shell.execute_reply": "2021-08-04T15:27:33.168346Z",
     "shell.execute_reply.started": "2021-08-04T15:27:33.150759Z"
    }
   },
   "outputs": [
    {
     "data": {
      "text/html": [
       "<div>\n",
       "<style scoped>\n",
       "    .dataframe tbody tr th:only-of-type {\n",
       "        vertical-align: middle;\n",
       "    }\n",
       "\n",
       "    .dataframe tbody tr th {\n",
       "        vertical-align: top;\n",
       "    }\n",
       "\n",
       "    .dataframe thead th {\n",
       "        text-align: right;\n",
       "    }\n",
       "</style>\n",
       "<table border=\"1\" class=\"dataframe\">\n",
       "  <thead>\n",
       "    <tr style=\"text-align: right;\">\n",
       "      <th></th>\n",
       "      <th>Restaurant_id</th>\n",
       "      <th>Rating</th>\n",
       "    </tr>\n",
       "  </thead>\n",
       "  <tbody>\n",
       "    <tr>\n",
       "      <th>0</th>\n",
       "      <td>id_0</td>\n",
       "      <td>2.0</td>\n",
       "    </tr>\n",
       "    <tr>\n",
       "      <th>1</th>\n",
       "      <td>id_1</td>\n",
       "      <td>2.5</td>\n",
       "    </tr>\n",
       "    <tr>\n",
       "      <th>2</th>\n",
       "      <td>id_2</td>\n",
       "      <td>4.0</td>\n",
       "    </tr>\n",
       "    <tr>\n",
       "      <th>3</th>\n",
       "      <td>id_3</td>\n",
       "      <td>1.0</td>\n",
       "    </tr>\n",
       "    <tr>\n",
       "      <th>4</th>\n",
       "      <td>id_4</td>\n",
       "      <td>4.0</td>\n",
       "    </tr>\n",
       "    <tr>\n",
       "      <th>...</th>\n",
       "      <td>...</td>\n",
       "      <td>...</td>\n",
       "    </tr>\n",
       "    <tr>\n",
       "      <th>9995</th>\n",
       "      <td>id_9995</td>\n",
       "      <td>3.0</td>\n",
       "    </tr>\n",
       "    <tr>\n",
       "      <th>9996</th>\n",
       "      <td>id_9996</td>\n",
       "      <td>1.5</td>\n",
       "    </tr>\n",
       "    <tr>\n",
       "      <th>9997</th>\n",
       "      <td>id_9997</td>\n",
       "      <td>4.5</td>\n",
       "    </tr>\n",
       "    <tr>\n",
       "      <th>9998</th>\n",
       "      <td>id_9998</td>\n",
       "      <td>1.0</td>\n",
       "    </tr>\n",
       "    <tr>\n",
       "      <th>9999</th>\n",
       "      <td>id_9999</td>\n",
       "      <td>2.5</td>\n",
       "    </tr>\n",
       "  </tbody>\n",
       "</table>\n",
       "<p>10000 rows × 2 columns</p>\n",
       "</div>"
      ],
      "text/plain": [
       "     Restaurant_id  Rating\n",
       "0             id_0     2.0\n",
       "1             id_1     2.5\n",
       "2             id_2     4.0\n",
       "3             id_3     1.0\n",
       "4             id_4     4.0\n",
       "...            ...     ...\n",
       "9995       id_9995     3.0\n",
       "9996       id_9996     1.5\n",
       "9997       id_9997     4.5\n",
       "9998       id_9998     1.0\n",
       "9999       id_9999     2.5\n",
       "\n",
       "[10000 rows x 2 columns]"
      ]
     },
     "execution_count": 57,
     "metadata": {},
     "output_type": "execute_result"
    }
   ],
   "source": [
    "sample_submission"
   ]
  },
  {
   "cell_type": "code",
   "execution_count": 58,
   "metadata": {
    "execution": {
     "iopub.execute_input": "2021-08-04T15:27:33.171207Z",
     "iopub.status.busy": "2021-08-04T15:27:33.170722Z",
     "iopub.status.idle": "2021-08-04T15:27:33.396962Z",
     "shell.execute_reply": "2021-08-04T15:27:33.396092Z",
     "shell.execute_reply.started": "2021-08-04T15:27:33.171050Z"
    }
   },
   "outputs": [
    {
     "name": "stderr",
     "output_type": "stream",
     "text": [
      "[Parallel(n_jobs=4)]: Using backend ThreadingBackend with 4 concurrent workers.\n",
      "[Parallel(n_jobs=4)]: Done  42 tasks      | elapsed:    0.0s\n",
      "[Parallel(n_jobs=4)]: Done 100 out of 100 | elapsed:    0.1s finished\n"
     ]
    }
   ],
   "source": [
    "predict_submission = model.predict(test_data)"
   ]
  },
  {
   "cell_type": "code",
   "execution_count": 59,
   "metadata": {
    "execution": {
     "iopub.execute_input": "2021-08-04T15:27:33.398631Z",
     "iopub.status.busy": "2021-08-04T15:27:33.398233Z",
     "iopub.status.idle": "2021-08-04T15:27:33.404505Z",
     "shell.execute_reply": "2021-08-04T15:27:33.403554Z",
     "shell.execute_reply.started": "2021-08-04T15:27:33.398556Z"
    }
   },
   "outputs": [
    {
     "data": {
      "text/plain": [
       "array([3.065, 4.235, 4.485, ..., 3.04 , 4.49 , 4.22 ])"
      ]
     },
     "execution_count": 59,
     "metadata": {},
     "output_type": "execute_result"
    }
   ],
   "source": [
    "predict_submission"
   ]
  },
  {
   "cell_type": "code",
   "execution_count": 60,
   "metadata": {
    "execution": {
     "iopub.execute_input": "2021-08-04T15:35:56.234759Z",
     "iopub.status.busy": "2021-08-04T15:35:56.234389Z",
     "iopub.status.idle": "2021-08-04T15:35:56.281979Z",
     "shell.execute_reply": "2021-08-04T15:35:56.281075Z",
     "shell.execute_reply.started": "2021-08-04T15:35:56.234718Z"
    }
   },
   "outputs": [
    {
     "data": {
      "text/html": [
       "<div>\n",
       "<style scoped>\n",
       "    .dataframe tbody tr th:only-of-type {\n",
       "        vertical-align: middle;\n",
       "    }\n",
       "\n",
       "    .dataframe tbody tr th {\n",
       "        vertical-align: top;\n",
       "    }\n",
       "\n",
       "    .dataframe thead th {\n",
       "        text-align: right;\n",
       "    }\n",
       "</style>\n",
       "<table border=\"1\" class=\"dataframe\">\n",
       "  <thead>\n",
       "    <tr style=\"text-align: right;\">\n",
       "      <th></th>\n",
       "      <th>Restaurant_id</th>\n",
       "      <th>Rating</th>\n",
       "    </tr>\n",
       "  </thead>\n",
       "  <tbody>\n",
       "    <tr>\n",
       "      <th>0</th>\n",
       "      <td>id_0</td>\n",
       "      <td>3.065</td>\n",
       "    </tr>\n",
       "    <tr>\n",
       "      <th>1</th>\n",
       "      <td>id_1</td>\n",
       "      <td>4.235</td>\n",
       "    </tr>\n",
       "    <tr>\n",
       "      <th>2</th>\n",
       "      <td>id_2</td>\n",
       "      <td>4.485</td>\n",
       "    </tr>\n",
       "    <tr>\n",
       "      <th>3</th>\n",
       "      <td>id_3</td>\n",
       "      <td>4.350</td>\n",
       "    </tr>\n",
       "    <tr>\n",
       "      <th>4</th>\n",
       "      <td>id_4</td>\n",
       "      <td>4.470</td>\n",
       "    </tr>\n",
       "  </tbody>\n",
       "</table>\n",
       "</div>"
      ],
      "text/plain": [
       "  Restaurant_id  Rating\n",
       "0          id_0   3.065\n",
       "1          id_1   4.235\n",
       "2          id_2   4.485\n",
       "3          id_3   4.350\n",
       "4          id_4   4.470"
      ]
     },
     "execution_count": 60,
     "metadata": {},
     "output_type": "execute_result"
    }
   ],
   "source": [
    "sample_submission['Rating'] = predict_submission\n",
    "sample_submission.to_csv('submission.csv', index=False)\n",
    "sample_submission.head()"
   ]
  },
  {
   "cell_type": "markdown",
   "metadata": {},
   "source": [
    "# What's next?\n",
    "Или что делать, чтоб улучшить результат:\n",
    "* Обработать оставшиеся признаки в понятный для машины формат\n",
    "* Посмотреть, что еще можно извлечь из признаков\n",
    "* Сгенерировать новые признаки\n",
    "* Подгрузить дополнительные данные, например: по населению или благосостоянию городов\n",
    "* Подобрать состав признаков\n",
    "\n",
    "В общем, процесс творческий и весьма увлекательный! Удачи в соревновании!\n"
   ]
  },
  {
   "cell_type": "code",
   "execution_count": null,
   "metadata": {},
   "outputs": [],
   "source": []
  }
 ],
 "metadata": {
  "kernelspec": {
   "display_name": "Python 3",
   "language": "python",
   "name": "python3"
  },
  "language_info": {
   "codemirror_mode": {
    "name": "ipython",
    "version": 3
   },
   "file_extension": ".py",
   "mimetype": "text/x-python",
   "name": "python",
   "nbconvert_exporter": "python",
   "pygments_lexer": "ipython3",
   "version": "3.6.6"
  }
 },
 "nbformat": 4,
 "nbformat_minor": 4
}
